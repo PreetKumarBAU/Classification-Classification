{
  "nbformat": 4,
  "nbformat_minor": 0,
  "metadata": {
    "kernelspec": {
      "language": "python",
      "display_name": "Python 3",
      "name": "python3"
    },
    "language_info": {
      "name": "python",
      "version": "3.7.10",
      "mimetype": "text/x-python",
      "codemirror_mode": {
        "name": "ipython",
        "version": 3
      },
      "pygments_lexer": "ipython3",
      "nbconvert_exporter": "python",
      "file_extension": ".py"
    },
    "colab": {
      "name": "Model3 Classification",
      "provenance": []
    }
  },
  "cells": [
    {
      "cell_type": "code",
      "metadata": {
        "id": "6IqO0KErYgZz",
        "trusted": true
      },
      "source": [
        ""
      ],
      "execution_count": null,
      "outputs": []
    },
    {
      "cell_type": "code",
      "metadata": {
        "id": "Rfq-4ICSYXOD",
        "execution": {
          "iopub.status.busy": "2021-09-01T17:00:58.900136Z",
          "iopub.execute_input": "2021-09-01T17:00:58.900534Z",
          "iopub.status.idle": "2021-09-01T17:01:03.414467Z",
          "shell.execute_reply.started": "2021-09-01T17:00:58.900449Z",
          "shell.execute_reply": "2021-09-01T17:01:03.413641Z"
        },
        "trusted": true
      },
      "source": [
        "# import libraries\n",
        "import numpy as np\n",
        "import cv2\n",
        "import matplotlib.pyplot as plt\n",
        "from tqdm import tqdm\n",
        "import os\n",
        "from keras.regularizers import l2\n",
        "from datetime import datetime \n",
        "\n",
        "\n",
        "# extract folder of chages disease images and non chagas disease images\n",
        "## We should have two folders ( Chagas and Non-Chagas )\n",
        "#!unzip \"/content/drive/MyDrive/ChagasTest.zip\"\n",
        "\n",
        "#!unzip \"/content/drive/MyDrive/ChagasValidation.zip\""
      ],
      "execution_count": null,
      "outputs": []
    },
    {
      "cell_type": "code",
      "metadata": {
        "id": "t4otd9I_WsKN",
        "execution": {
          "iopub.status.busy": "2021-08-31T18:25:25.608168Z",
          "iopub.execute_input": "2021-08-31T18:25:25.608449Z",
          "iopub.status.idle": "2021-08-31T18:25:25.614126Z",
          "shell.execute_reply.started": "2021-08-31T18:25:25.608423Z",
          "shell.execute_reply": "2021-08-31T18:25:25.61335Z"
        },
        "trusted": true
      },
      "source": [
        "#!unzip \"/content/drive/MyDrive/Non-ChagasData_Selected.zip\""
      ],
      "execution_count": null,
      "outputs": []
    },
    {
      "cell_type": "code",
      "metadata": {
        "id": "CqHVkM_yNWeu",
        "execution": {
          "iopub.status.busy": "2021-08-31T18:25:25.617791Z",
          "iopub.execute_input": "2021-08-31T18:25:25.618073Z",
          "iopub.status.idle": "2021-08-31T18:25:25.622656Z",
          "shell.execute_reply.started": "2021-08-31T18:25:25.618043Z",
          "shell.execute_reply": "2021-08-31T18:25:25.621694Z"
        },
        "trusted": true
      },
      "source": [
        "#!unzip \"/content/drive/MyDrive/ChagasTraining.zip\"\n"
      ],
      "execution_count": null,
      "outputs": []
    },
    {
      "cell_type": "code",
      "metadata": {
        "id": "BzusLIkPWzLc"
      },
      "source": [
        ""
      ],
      "execution_count": null,
      "outputs": []
    },
    {
      "cell_type": "code",
      "metadata": {
        "id": "upUkOo6AtFGB",
        "execution": {
          "iopub.status.busy": "2021-09-01T17:01:03.721668Z",
          "iopub.execute_input": "2021-09-01T17:01:03.722007Z",
          "iopub.status.idle": "2021-09-01T17:01:04.218115Z",
          "shell.execute_reply.started": "2021-09-01T17:01:03.721975Z",
          "shell.execute_reply": "2021-09-01T17:01:04.217236Z"
        },
        "trusted": true
      },
      "source": [
        "import os \n",
        "import seaborn as sns\n",
        "from keras.applications.vgg16 import VGG16\n",
        "training_dir =  \"../input/training/training\"\n",
        "test_dir =      \"../input/testdata/Test\"\n",
        "validation_dir= \"../input/validation/Validation\"\n",
        "\n",
        "training_dir_images = os.path.join(training_dir , \"images\")\n",
        "test_dir_images = os.path.join(test_dir , \"images\")\n",
        "validation_dir_images = os.path.join(validation_dir , \"images\")\n",
        "\n",
        "\n",
        "Training_Non_ChagasFiles = [ \"i_0450,i_0389,i_0392 ,i_0395 , i_0440 ,i_0429 , i_0406 , i_0398 , i_0369 , i_0374, i_0348, i_0339,  i_0337 , i_0389 ,i_0334, i_0324 ,i_0279, i_0280, i_0281 , i_0263 , i_0264 , i_0254 , i_0253 , i_0245 , i_0240 , i_0238 , i_0235 , i_0226 , i_0201, i_0184, i_0156, i_0150, i_0148 , i_0152 , i_0099 , i_0018 , i_0001\" ]\n",
        "\n",
        "\n",
        "Validation_Non_ChagasFiles = [\"i842 , i806 , i_0583, i_0559 , i_0528 , i_0529 , i_0583 , i_0559 , i_0528 , i_0529 , i_0481, i_0394 , i_0183 , i_0078 , i_0042 , i_0022\" ]\n",
        "\n",
        "\n",
        "Test_Non_ChagasFiles = [\"i_0579 , i_0579d , i_0050dd , i_0046d , i_0046dd , i_0047dd , i_0047d , i_0048d , i_0048dd ,i_0049d , i_0049dd , i_0050d , i_0050dd\" ]\n",
        "\n",
        "Non_chagas_files_names = []\n",
        "\n",
        "Non_chagas_files_names.extend(Training_Non_ChagasFiles)\n",
        "Non_chagas_files_names.extend(Validation_Non_ChagasFiles)\n",
        "Non_chagas_files_names.extend(Test_Non_ChagasFiles)\n",
        "\n",
        "NC = []\n",
        "for string in Non_chagas_files_names:\n",
        "  \n",
        "  NC.extend(string.split(\",\"))\n",
        "\n",
        "Non_Chagas_Files = []\n",
        "for values in NC:\n",
        "  Non_Chagas_Files.append(values.strip())\n",
        "\n",
        "\n"
      ],
      "execution_count": null,
      "outputs": []
    },
    {
      "cell_type": "code",
      "metadata": {
        "id": "jy9B1OqiyGEm",
        "execution": {
          "iopub.status.busy": "2021-08-31T18:25:26.151504Z",
          "iopub.execute_input": "2021-08-31T18:25:26.15178Z",
          "iopub.status.idle": "2021-08-31T18:25:26.161887Z",
          "shell.execute_reply.started": "2021-08-31T18:25:26.15173Z",
          "shell.execute_reply": "2021-08-31T18:25:26.160991Z"
        },
        "trusted": true
      },
      "source": [
        "training_dir_images"
      ],
      "execution_count": null,
      "outputs": []
    },
    {
      "cell_type": "code",
      "metadata": {
        "id": "id_iHL0RyNf9",
        "execution": {
          "iopub.status.busy": "2021-09-01T17:01:10.377450Z",
          "iopub.execute_input": "2021-09-01T17:01:10.377774Z",
          "iopub.status.idle": "2021-09-01T17:01:27.817984Z",
          "shell.execute_reply.started": "2021-09-01T17:01:10.377743Z",
          "shell.execute_reply": "2021-09-01T17:01:27.817090Z"
        },
        "trusted": true
      },
      "source": [
        "import cv2\n",
        "from skimage import io\n",
        "\n",
        "\n",
        "###Extract the Each Image and Label them as 0 or 1  ( label the chagas images as 1 and non chagas as 0)\n",
        "# we can have seperate list(or any array) for each of them[images and their corresponding labels ] ( one containing the arrays representing Each Image and another containing values/labels )\n",
        "\n",
        "labels = []\n",
        "images = []\n",
        "file_name= []\n",
        "for file in os.listdir(training_dir_images):\n",
        "  if file.endswith(\".png\"):\n",
        "      \n",
        "    file_name.append(file.split(\".\")[0])\n",
        "    if file.split(\".\")[0] in Non_Chagas_Files:\n",
        "      labels.append(0)\n",
        "      \n",
        "      images.append(cv2.resize(cv2.imread(os.path.join(training_dir_images , file)), (256, 256)))\n",
        "      \n",
        "    else:\n",
        "      labels.append(1)\n",
        "      images.append(cv2.resize(cv2.imread(os.path.join(training_dir_images , file)), (256, 256)))\n",
        "\n",
        "  else:\n",
        "    pass\n",
        "\n",
        "for file in os.listdir(test_dir_images):\n",
        "  if file.endswith(\".png\"):\n",
        "\n",
        "\n",
        "    file_name.append(file.split(\".\")[0])\n",
        "    if file.split(\".\")[0] in Non_Chagas_Files:\n",
        "      labels.append(0)\n",
        "      images.append(cv2.resize(cv2.imread(os.path.join(test_dir_images , file)), (256, 256)))\n",
        "      \n",
        "    else:\n",
        "      labels.append(1)\n",
        "      images.append(cv2.resize(cv2.imread(os.path.join(test_dir_images , file)), (256, 256)))\n",
        "  \n",
        "  else:\n",
        "    pass\n",
        "\n",
        "\n",
        "for file in os.listdir(validation_dir_images):\n",
        "  if file.endswith(\".png\"):\n",
        "    \n",
        "\n",
        "    file_name.append(file.split(\".\")[0])\n",
        "    if file.split(\".\")[0] in Non_Chagas_Files:\n",
        "      labels.append(0)\n",
        "      images.append(cv2.resize(cv2.imread(os.path.join(validation_dir_images , file)), (256, 256)))\n",
        "    else:\n",
        "      labels.append(1)\n",
        "      images.append(cv2.resize(cv2.imread(os.path.join(validation_dir_images , file)), (256, 256)))\n",
        "  else:\n",
        "    pass\n",
        "# Where X is Array containing Arrays( representing Images)\n",
        "# Where Y is Array containing Labels(values as 0 and 1 ) ( representing labels for each Image)\n",
        "\n"
      ],
      "execution_count": null,
      "outputs": []
    },
    {
      "cell_type": "code",
      "metadata": {
        "id": "Gr5iUwxIUGuy",
        "execution": {
          "iopub.status.busy": "2021-09-01T17:01:27.830439Z",
          "iopub.execute_input": "2021-09-01T17:01:27.831037Z",
          "iopub.status.idle": "2021-09-01T17:01:31.435483Z",
          "shell.execute_reply.started": "2021-09-01T17:01:27.830999Z",
          "shell.execute_reply": "2021-09-01T17:01:31.434618Z"
        },
        "trusted": true
      },
      "source": [
        "for file_path in os.listdir(\"../input/non-chagas/Non-ChagasData_Selected\"):\n",
        "  if file_path.endswith(\".png\"):\n",
        "    labels.append(0)\n",
        "      \n",
        "    images.append(cv2.resize(cv2.imread(os.path.join(\"../input/non-chagas/Non-ChagasData_Selected\" , file_path)), (256, 256)))"
      ],
      "execution_count": null,
      "outputs": []
    },
    {
      "cell_type": "code",
      "metadata": {
        "id": "1BDcUpryZfjV",
        "execution": {
          "iopub.status.busy": "2021-09-01T17:01:31.436857Z",
          "iopub.execute_input": "2021-09-01T17:01:31.437182Z",
          "iopub.status.idle": "2021-09-01T17:01:31.445236Z",
          "shell.execute_reply.started": "2021-09-01T17:01:31.437147Z",
          "shell.execute_reply": "2021-09-01T17:01:31.444332Z"
        },
        "trusted": true,
        "outputId": "941d611b-4b45-4658-9b56-18628daceba3"
      },
      "source": [
        "import numpy as np\n",
        "np.unique(np.array(labels) ,return_counts = True )"
      ],
      "execution_count": null,
      "outputs": [
        {
          "execution_count": 6,
          "output_type": "execute_result",
          "data": {
            "text/plain": "(array([0, 1]), array([559, 940]))"
          },
          "metadata": {}
        }
      ]
    },
    {
      "cell_type": "code",
      "metadata": {
        "id": "u6kQpBEuFRkl",
        "execution": {
          "iopub.status.busy": "2021-08-31T18:25:46.278596Z",
          "iopub.execute_input": "2021-08-31T18:25:46.278961Z",
          "iopub.status.idle": "2021-08-31T18:25:46.287549Z",
          "shell.execute_reply.started": "2021-08-31T18:25:46.278924Z",
          "shell.execute_reply": "2021-08-31T18:25:46.286744Z"
        },
        "trusted": true
      },
      "source": [
        "#imagess = []\n",
        "#for imagesss in images:\n",
        "#  imagess.append(cv2.resize(imagesss , (256 , 256 )))"
      ],
      "execution_count": null,
      "outputs": []
    },
    {
      "cell_type": "code",
      "metadata": {
        "id": "0uLnafPI5TRB",
        "execution": {
          "iopub.status.busy": "2021-09-01T17:01:31.447142Z",
          "iopub.execute_input": "2021-09-01T17:01:31.448033Z",
          "iopub.status.idle": "2021-09-01T17:01:31.742079Z",
          "shell.execute_reply.started": "2021-09-01T17:01:31.447992Z",
          "shell.execute_reply": "2021-09-01T17:01:31.741056Z"
        },
        "trusted": true,
        "outputId": "e41faa62-08bb-4b14-eb10-af660ebcd0d5"
      },
      "source": [
        "\n",
        "# Split the Images and labels into Train , Test and Validation Data\n",
        "print(type(images))\n",
        "images = np.array(images , dtype = \"float32\")\n",
        "labels = np.array(labels, dtype = 'int32')\n",
        "print(type(images))\n"
      ],
      "execution_count": null,
      "outputs": [
        {
          "name": "stdout",
          "text": "<class 'list'>\n<class 'numpy.ndarray'>\n",
          "output_type": "stream"
        }
      ]
    },
    {
      "cell_type": "code",
      "metadata": {
        "id": "3UvBwwC-89TG",
        "execution": {
          "iopub.status.busy": "2021-09-01T17:01:54.454254Z",
          "iopub.execute_input": "2021-09-01T17:01:54.454572Z",
          "iopub.status.idle": "2021-09-01T17:01:54.459951Z",
          "shell.execute_reply.started": "2021-09-01T17:01:54.454541Z",
          "shell.execute_reply": "2021-09-01T17:01:54.458760Z"
        },
        "trusted": true,
        "outputId": "ef48c311-7773-4cca-d160-e9120c9d93f7"
      },
      "source": [
        "print(images.shape[0])\n",
        "print(labels.shape[0])\n"
      ],
      "execution_count": null,
      "outputs": [
        {
          "name": "stdout",
          "text": "1499\n1499\n",
          "output_type": "stream"
        }
      ]
    },
    {
      "cell_type": "code",
      "metadata": {
        "id": "j5b2hNue_n8l",
        "execution": {
          "iopub.status.busy": "2021-09-01T17:01:59.665464Z",
          "iopub.execute_input": "2021-09-01T17:01:59.665784Z",
          "iopub.status.idle": "2021-09-01T17:02:00.184211Z",
          "shell.execute_reply.started": "2021-09-01T17:01:59.665752Z",
          "shell.execute_reply": "2021-09-01T17:02:00.183301Z"
        },
        "trusted": true
      },
      "source": [
        "import random\n",
        "\n",
        "# Shuffle\n",
        "from sklearn.utils import shuffle\n",
        "#images, labels = shuffle(images, labels, random_state=10)\n",
        "from sklearn.model_selection import train_test_split\n",
        "from sklearn.metrics import accuracy_score, confusion_matrix\n",
        "\n",
        "train_images, test_images, train_labels, test_labels = train_test_split(images, labels, test_size = 0.2 , random_state=10)\n",
        "test_images, val_images, test_labels, val_labels = train_test_split(test_images, test_labels, test_size = 0.5 , random_state=10)\n",
        "\n"
      ],
      "execution_count": null,
      "outputs": []
    },
    {
      "cell_type": "code",
      "metadata": {
        "execution": {
          "iopub.status.busy": "2021-09-01T17:02:04.624939Z",
          "iopub.execute_input": "2021-09-01T17:02:04.625279Z",
          "iopub.status.idle": "2021-09-01T17:02:04.634745Z",
          "shell.execute_reply.started": "2021-09-01T17:02:04.625248Z",
          "shell.execute_reply": "2021-09-01T17:02:04.633864Z"
        },
        "trusted": true,
        "id": "9mRJ_mPUBx5H",
        "outputId": "53131b29-c6b1-4837-aa1c-9b4c43668d10"
      },
      "source": [
        "test_labels"
      ],
      "execution_count": null,
      "outputs": [
        {
          "execution_count": 10,
          "output_type": "execute_result",
          "data": {
            "text/plain": "array([1, 1, 1, 1, 0, 0, 1, 0, 1, 1, 1, 0, 1, 0, 0, 0, 1, 1, 0, 1, 1, 1,\n       0, 1, 0, 1, 0, 1, 1, 1, 0, 1, 0, 1, 0, 0, 0, 0, 0, 1, 1, 0, 1, 0,\n       1, 1, 0, 0, 0, 1, 0, 0, 1, 0, 1, 1, 1, 0, 1, 0, 0, 1, 1, 0, 0, 1,\n       0, 1, 1, 1, 0, 1, 0, 1, 1, 0, 1, 0, 0, 1, 1, 1, 0, 0, 1, 0, 0, 0,\n       1, 1, 1, 1, 1, 1, 0, 0, 1, 1, 0, 1, 0, 0, 0, 0, 1, 1, 1, 1, 1, 1,\n       0, 1, 1, 0, 1, 0, 0, 0, 1, 1, 1, 1, 0, 1, 1, 0, 1, 0, 1, 0, 0, 0,\n       0, 1, 0, 1, 1, 1, 1, 0, 1, 1, 1, 0, 1, 0, 1, 1, 1, 1], dtype=int32)"
          },
          "metadata": {}
        }
      ]
    },
    {
      "cell_type": "code",
      "metadata": {
        "id": "wNEEJfV3BJeF",
        "execution": {
          "iopub.status.busy": "2021-09-01T17:02:11.351977Z",
          "iopub.execute_input": "2021-09-01T17:02:11.352297Z",
          "iopub.status.idle": "2021-09-01T17:02:11.362693Z",
          "shell.execute_reply.started": "2021-09-01T17:02:11.352267Z",
          "shell.execute_reply": "2021-09-01T17:02:11.361551Z"
        },
        "trusted": true,
        "outputId": "f75bf0b8-481b-498c-bafb-e87a08f3403d"
      },
      "source": [
        "n_train = train_labels.shape[0]\n",
        "n_val = val_labels.shape[0]\n",
        "n_test = test_labels.shape[0]\n",
        "\n",
        "print(\"Number of training examples: {}\".format(n_train))\n",
        "print(\"Number of validation examples: {}\".format(n_val))\n",
        "print(\"Number of testing examples: {}\".format(n_test))\n",
        "\n",
        "print(\"Training images are of shape: {}\".format(train_images.shape))\n",
        "print(\"Training labels are of shape: {}\".format(train_labels.shape))\n",
        "print(\"Validation images are of shape: {}\".format(val_images.shape))\n",
        "print(\"Validation labels are of shape: {}\".format(val_labels.shape))\n",
        "print(\"Test images are of shape: {}\".format(test_images.shape))\n",
        "print(\"Test labels are of shape: {}\".format(test_labels.shape))"
      ],
      "execution_count": null,
      "outputs": [
        {
          "name": "stdout",
          "text": "Number of training examples: 1199\nNumber of validation examples: 150\nNumber of testing examples: 150\nTraining images are of shape: (1199, 256, 256, 3)\nTraining labels are of shape: (1199,)\nValidation images are of shape: (150, 256, 256, 3)\nValidation labels are of shape: (150,)\nTest images are of shape: (150, 256, 256, 3)\nTest labels are of shape: (150,)\n",
          "output_type": "stream"
        }
      ]
    },
    {
      "cell_type": "code",
      "metadata": {
        "id": "3DsBcyImBQE3",
        "execution": {
          "iopub.status.busy": "2021-09-01T17:02:17.966963Z",
          "iopub.execute_input": "2021-09-01T17:02:17.967277Z",
          "iopub.status.idle": "2021-09-01T17:02:18.318312Z",
          "shell.execute_reply.started": "2021-09-01T17:02:17.967249Z",
          "shell.execute_reply": "2021-09-01T17:02:18.317353Z"
        },
        "trusted": true
      },
      "source": [
        "train_images = train_images / 255.0 \n",
        "val_images = val_images / 255.0\n",
        "test_images = test_images / 255.0"
      ],
      "execution_count": null,
      "outputs": []
    },
    {
      "cell_type": "code",
      "metadata": {
        "id": "xX4grPtaDNzG",
        "execution": {
          "iopub.status.busy": "2021-09-01T17:02:22.290211Z",
          "iopub.execute_input": "2021-09-01T17:02:22.290544Z",
          "iopub.status.idle": "2021-09-01T17:02:22.301002Z",
          "shell.execute_reply.started": "2021-09-01T17:02:22.290511Z",
          "shell.execute_reply": "2021-09-01T17:02:22.299927Z"
        },
        "trusted": true
      },
      "source": [
        "from __future__ import print_function\n",
        "from keras.preprocessing.image import ImageDataGenerator, img_to_array, load_img\n",
        "from keras.layers import Conv2D, MaxPooling2D, UpSampling2D, BatchNormalization, Reshape, Permute, Activation, Input, \\\n",
        "    add, multiply ,  Dense, Conv2D, Activation, Flatten\n",
        "from keras.layers import concatenate, core, Dropout\n",
        "from tensorflow.keras.models import Model\n",
        "from tensorflow.keras.optimizers import Adam\n",
        "from tensorflow.keras.optimizers import SGD\n",
        "from keras.layers.core import Lambda\n",
        "#import keras.backend as K\n",
        "from keras.layers import Input, Conv2D, UpSampling2D, BatchNormalization, Activation, add,average,concatenate , Conv2DTranspose\n",
        "from keras.layers.core import Lambda\n",
        "from keras.optimizers import Adam\n",
        "from keras.losses import binary_crossentropy\n",
        "#%tensorflow_version 1.x\n",
        "from keras.callbacks import TensorBoard\n",
        "from keras.callbacks import CSVLogger\n",
        "from glob import glob\n",
        "from sklearn.model_selection import train_test_split\n",
        "\n",
        "\n",
        "import keras\n",
        "import tensorflow as tf\n",
        "#import keras.backend.tensorflow_backend as K\n",
        "import keras.backend as K\n",
        "import matplotlib.pyplot as plt\n",
        "\n",
        "import tensorflow as tf\n",
        "import cv2\n",
        "\n",
        "\n",
        "import numpy as np\n",
        "\n"
      ],
      "execution_count": null,
      "outputs": []
    },
    {
      "cell_type": "code",
      "metadata": {
        "execution": {
          "iopub.status.busy": "2021-09-01T17:02:34.003985Z",
          "iopub.execute_input": "2021-09-01T17:02:34.004307Z",
          "iopub.status.idle": "2021-09-01T17:02:34.281942Z",
          "shell.execute_reply.started": "2021-09-01T17:02:34.004276Z",
          "shell.execute_reply": "2021-09-01T17:02:34.281032Z"
        },
        "trusted": true,
        "id": "24-mNCo0Bx5J"
      },
      "source": [
        "\n",
        "from keras.models import Sequential, Model \n",
        "from keras.layers import Lambda, SeparableConv2D, BatchNormalization, Dropout, MaxPooling2D, Input, Dense, Conv2D, Activation, Flatten \n",
        "\n",
        "from sklearn.metrics import accuracy_score, confusion_matrix\n",
        "from keras import backend as K\n",
        "from keras.losses import binary_crossentropy\n",
        "import tensorflow as tf\n",
        "import os\n",
        "import skimage.io as io\n",
        "import skimage.transform as trans\n",
        "import cv2\n",
        "import warnings\n",
        "warnings.filterwarnings(\"ignore\")\n"
      ],
      "execution_count": null,
      "outputs": []
    },
    {
      "cell_type": "markdown",
      "metadata": {
        "id": "6IVmrgt8Bx5K"
      },
      "source": [
        "## Metrics"
      ]
    },
    {
      "cell_type": "code",
      "metadata": {
        "execution": {
          "iopub.status.busy": "2021-09-01T17:02:38.522486Z",
          "iopub.execute_input": "2021-09-01T17:02:38.522806Z",
          "iopub.status.idle": "2021-09-01T17:02:38.530104Z",
          "shell.execute_reply.started": "2021-09-01T17:02:38.522775Z",
          "shell.execute_reply": "2021-09-01T17:02:38.528919Z"
        },
        "trusted": true,
        "id": "fVCEiG4oBx5N"
      },
      "source": [
        "\n",
        "\n",
        "def precision(y_true, y_pred):\n",
        "    \"\"\"Precision metric.\n",
        "\n",
        "    Only computes a batch-wise average of precision.\n",
        "\n",
        "    Computes the precision, a metric for multi-label classification of\n",
        "    how many selected items are relevant.\n",
        "    \"\"\"\n",
        "    true_positives = K.sum(K.round(K.clip(y_true * y_pred, 0, 1)))\n",
        "    predicted_positives = K.sum(K.round(K.clip(y_pred, 0, 1)))\n",
        "    precision = true_positives / (predicted_positives + K.epsilon())\n",
        "    return precision\n",
        "def recall(y_true, y_pred):\n",
        "        \"\"\"Recall metric.\n",
        "\n",
        "        Only computes a batch-wise average of recall.\n",
        "\n",
        "        Computes the recall, a metric for multi-label classification of\n",
        "        how many relevant items are selected.\n",
        "        \"\"\"\n",
        "        true_positives = K.sum(K.round(K.clip(y_true * y_pred, 0, 1)))\n",
        "        possible_positives = K.sum(K.round(K.clip(y_true, 0, 1)))\n",
        "        recall = true_positives / (possible_positives + K.epsilon())\n",
        "        return recall\n"
      ],
      "execution_count": null,
      "outputs": []
    },
    {
      "cell_type": "markdown",
      "metadata": {
        "id": "T7ICxiC1Bx5O"
      },
      "source": [
        "# **Data_Augmentation**"
      ]
    },
    {
      "cell_type": "code",
      "metadata": {
        "execution": {
          "iopub.status.busy": "2021-09-01T17:02:47.486471Z",
          "iopub.execute_input": "2021-09-01T17:02:47.486902Z",
          "iopub.status.idle": "2021-09-01T17:02:49.111795Z",
          "shell.execute_reply.started": "2021-09-01T17:02:47.486859Z",
          "shell.execute_reply": "2021-09-01T17:02:49.110952Z"
        },
        "trusted": true,
        "id": "M9Xjerf1Bx5Q"
      },
      "source": [
        "from tensorflow.keras import layers\n",
        "\n",
        "data_augmentation = keras.Sequential(\n",
        "    [\n",
        "        layers.experimental.preprocessing.RandomFlip(\"horizontal\"),\n",
        "        layers.experimental.preprocessing.RandomRotation(0.1),\n",
        "    ]\n",
        ")"
      ],
      "execution_count": null,
      "outputs": []
    },
    {
      "cell_type": "markdown",
      "metadata": {
        "id": "i2s6yqo7AFpG"
      },
      "source": [
        "# **MODEL_2**"
      ]
    },
    {
      "cell_type": "code",
      "metadata": {
        "id": "bnbWRezxHc3s",
        "execution": {
          "iopub.status.busy": "2021-09-01T17:04:42.796030Z",
          "iopub.execute_input": "2021-09-01T17:04:42.796351Z",
          "iopub.status.idle": "2021-09-01T17:04:43.218567Z",
          "shell.execute_reply.started": "2021-09-01T17:04:42.796321Z",
          "shell.execute_reply": "2021-09-01T17:04:43.217792Z"
        },
        "jupyter": {
          "outputs_hidden": true
        },
        "trusted": true,
        "outputId": "6014ab75-a6ec-4ed6-b4df-ce910a218a04"
      },
      "source": [
        "## Res2Net Model with Regularizers\n",
        "IMG_SIZE = 256\n",
        "h_heuns_method=0.5\n",
        "\n",
        "def res_block(x, nb_filters, strides):\n",
        "    res_path = BatchNormalization()(x)\n",
        "    res_path = Activation(activation='relu')(res_path)\n",
        "    res_path = Conv2D(filters=nb_filters[0], kernel_size=(3, 3), padding='same' ,strides=strides[0]  )(res_path)\n",
        "\n",
        "    #res_path = Conv2D(filters=nb_filters[0], kernel_size=(3, 3), padding='same' ,strides=strides[0] , kernel_regularizer=l2(0.01) )(res_path)\n",
        "\n",
        "    res_path = BatchNormalization()(res_path)\n",
        "    res_path = Activation(activation='relu')(res_path)\n",
        "    res_path = Conv2D(filters=nb_filters[1], kernel_size=(3, 3), padding='same',strides=strides[1] )(res_path)\n",
        "\n",
        "    #res_path = Conv2D(filters=nb_filters[1], kernel_size=(3, 3), padding='same',strides=strides[1], kernel_regularizer=l2(0.01) )(res_path)\n",
        "    hpath = Lambda(lambda x: x * h_heuns_method)(res_path)\n",
        "    shortcut = Conv2D(nb_filters[1], kernel_size=(1, 1),strides=strides[0]  )(x)\n",
        "\n",
        "    #shortcut = Conv2D(nb_filters[1], kernel_size=(1, 1),strides=strides[0] , kernel_regularizer=l2(0.01) )(x)\n",
        "    shortcut = BatchNormalization()(shortcut)\n",
        "\n",
        "    res_path = add([shortcut, hpath])#suma corta\n",
        "    return res_path\n",
        "\n",
        "def res_block2(x,y,nb_filters, strides):\n",
        "    res_path = BatchNormalization()(x)\n",
        "    res_path = Activation(activation='relu')(res_path)\n",
        "    res_path = Conv2D(filters=nb_filters[0], kernel_size=(3, 3), padding='same' ,strides=strides[0] )(res_path)\n",
        "    #res_path = Conv2D(filters=nb_filters[0], kernel_size=(3, 3), padding='same' ,strides=strides[0] , kernel_regularizer=l2(0.01) )(res_path)\n",
        "    res_path = BatchNormalization()(res_path)\n",
        "    res_path = Activation(activation='relu')(res_path)\n",
        "    #res_path = Conv2D(filters=nb_filters[1], kernel_size=(3, 3), padding='same',strides=strides[1] , kernel_regularizer=l2(0.01) )(res_path)\n",
        "    res_path = Conv2D(filters=nb_filters[1], kernel_size=(3, 3), padding='same',strides=strides[1]  )(res_path)\n",
        "\n",
        "    hpath = Lambda(lambda x: x * h_heuns_method)(res_path)\n",
        "    shortcut = Conv2D(nb_filters[1], kernel_size=(1, 1),strides=strides[0]  )(x)\n",
        "\n",
        "    #shortcut = Conv2D(nb_filters[1], kernel_size=(1, 1),strides=strides[0] , kernel_regularizer=l2(0.01) )(x)\n",
        "    shortcut = BatchNormalization()(shortcut)\n",
        "\n",
        "    res_path = add([shortcut, hpath])#suma corta\n",
        "\n",
        "    res_path = average([y, res_path])#suma doble \n",
        "    return res_path\n",
        "\n",
        "\n",
        "def encoder(x):\n",
        "    features_extracted = []\n",
        "\n",
        "    #main_path = Conv2D(filters= 64, kernel_size=(3, 3), padding='same', strides=(1, 1) , kernel_regularizer=l2(0.01) )(x)\n",
        "    main_path = Conv2D(filters= 64, kernel_size=(3, 3), padding='same', strides=(1, 1) )(x)\n",
        "    main_path = BatchNormalization()(main_path)\n",
        "    main_path = Activation(activation='relu')(main_path)\n",
        "    \n",
        "    #main_path = Conv2D(filters=64, kernel_size=(3, 3), padding='same', strides=(1, 1) , kernel_regularizer=l2(0.01) )(main_path)\n",
        "    main_path = Conv2D(filters=64, kernel_size=(3, 3), padding='same', strides=(1, 1) )(main_path)\n",
        "    hpath = Lambda(lambda x: x * h_heuns_method)(main_path)\n",
        "    shortcut = Conv2D(filters=64, kernel_size=(1, 1), strides=(1, 1)  )(x)\n",
        "\n",
        "    #shortcut = Conv2D(filters=64, kernel_size=(1, 1), strides=(1, 1) , kernel_regularizer=l2(0.01) )(x)\n",
        "    shortcut = BatchNormalization()(shortcut)\n",
        "\n",
        "    main_path = add([shortcut, hpath])#suma corta\n",
        "\n",
        "    features_extracted.append(main_path)\n",
        "\n",
        "\n",
        "    s1 = Conv2D(filters=128, kernel_size=(1, 1), strides=(2, 2) )(x)\n",
        "    #s1 = Conv2D(filters=128, kernel_size=(1, 1), strides=(2, 2) , kernel_regularizer=l2(0.01))(x)\n",
        "\n",
        "    s1 = BatchNormalization()(s1)\n",
        "    s1 = Activation(activation='relu')(s1)\n",
        "    s1 = Dropout(0.3)(s1)\n",
        "    main_path = res_block2(main_path,s1, [128, 128], [(2, 2), (1, 1)]) \n",
        "    features_extracted.append(main_path)\n",
        "\n",
        "    main_path = res_block(main_path, [256, 256], [(2, 2), (1, 1)])\n",
        "    features_extracted.append(main_path)\n",
        "\n",
        "    #s2 = Conv2D(filters=512, kernel_size=(1, 1), strides=(4, 4) , kernel_regularizer=l2(0.01) )(to_decoder[1])\n",
        "    s2 = Conv2D(filters=512, kernel_size=(1, 1), strides=(4, 4)  )(features_extracted[1])\n",
        "    s2 = BatchNormalization()(s2)\n",
        "    s2 = Activation(activation='relu')(s2)\n",
        "    s2 = Dropout(0.3)(s2)\n",
        "\n",
        "    main_path = res_block2(main_path,s2, [512, 512], [(2, 2), (1, 1)])\n",
        "    features_extracted.append(main_path)\n",
        "\n",
        "    \n",
        "\n",
        "    return features_extracted\n",
        "    \n",
        "\n",
        "def res2unet(lrate=8.00E-05,pretrained_weights=None):\n",
        "    print(lrate)\n",
        "    input_size=(IMG_SIZE, IMG_SIZE, 3)\n",
        "    inputs = Input(shape=input_size)\n",
        "\n",
        "    features_extracted = encoder(inputs)\n",
        "\n",
        "    path = res_block(features_extracted[-1], [1024, 1024], [(2, 2), (1, 1)])####bridge\n",
        "\n",
        "    # FC layer \n",
        "    x = Flatten()(path)\n",
        "    #x = Dense(units = 1024 , activation = 'relu')(x)\n",
        "    #x = Dropout(0.7)(x)\n",
        "    x = Dense(units = 512 , activation = 'relu' , kernel_regularizer=l2(0.01) )(x)\n",
        "    x = Dropout(0.7)(x)\n",
        "    x = Dense(units = 128 , activation = 'relu' ,  kernel_regularizer=l2(0.01) )(x)\n",
        "    x = Dropout(0.5)(x)\n",
        "    x=  Dense(units = 64 , activation = 'relu' ,  kernel_regularizer=l2(0.01) )(x)\n",
        "    x = Dropout(0.3)(x)\n",
        "\n",
        "\n",
        "\n",
        "    #path = decoder(path, from_encoder=to_decoder)\n",
        "\n",
        "\n",
        "    #path = Conv2D(2, kernel_size=(3, 3),activation='relu', padding='same', strides=(1, 1))(path)\n",
        "    #path = Conv2D(filters=1, kernel_size=(1, 1), activation='sigmoid')(path)\n",
        "    \n",
        "    # Output layer\n",
        "    output  = Dense(units = 1 , activation = 'sigmoid')(x)\n",
        "    \n",
        "    model = Model(inputs=inputs, outputs=output )\n",
        "    model.compile(optimizer=Adam(lr=lrate), loss = 'binary_crossentropy', metrics = ['accuracy',precision,recall])\n",
        "    if (pretrained_weights):\n",
        "        model.load_weights(pretrained_weights)\n",
        "    return model\n",
        "    \n",
        "\n",
        "model2 = res2unet(lrate=7.00E-05)\n",
        "\n",
        "model2.summary()\n",
        "\n",
        "from tensorflow.keras.callbacks import EarlyStopping, ModelCheckpoint, ReduceLROnPlateau\n",
        "\n",
        "#early_stop = EarlyStopping(monitor='val_loss', min_delta=0.1, patience=5, verbose = 1, mode='min', restore_best_weights = True)\n",
        "\n",
        "learning_rate_reduction = ReduceLROnPlateau(\n",
        "    monitor = 'val_accuracy', \n",
        "    patience = 3, \n",
        "    verbose = 1, \n",
        "    factor = 0.3, \n",
        "    min_lr = 0.000001\n",
        "    )\n",
        "\n",
        "\n",
        "model_checkpoint1 = keras.callbacks.ModelCheckpoint('Model_Weights2.hdf5', monitor='val_accuracy',verbose=1, mode='max',save_best_only=True)\n",
        "csv_logger = CSVLogger('training_model_metrics_values.log', append=True, separator=';')\n",
        "\n",
        "\n"
      ],
      "execution_count": null,
      "outputs": [
        {
          "name": "stdout",
          "text": "7e-05\nModel: \"model\"\n__________________________________________________________________________________________________\nLayer (type)                    Output Shape         Param #     Connected to                     \n==================================================================================================\ninput_1 (InputLayer)            [(None, 256, 256, 3) 0                                            \n__________________________________________________________________________________________________\nconv2d (Conv2D)                 (None, 256, 256, 64) 1792        input_1[0][0]                    \n__________________________________________________________________________________________________\nbatch_normalization (BatchNorma (None, 256, 256, 64) 256         conv2d[0][0]                     \n__________________________________________________________________________________________________\nactivation (Activation)         (None, 256, 256, 64) 0           batch_normalization[0][0]        \n__________________________________________________________________________________________________\nconv2d_2 (Conv2D)               (None, 256, 256, 64) 256         input_1[0][0]                    \n__________________________________________________________________________________________________\nconv2d_1 (Conv2D)               (None, 256, 256, 64) 36928       activation[0][0]                 \n__________________________________________________________________________________________________\nbatch_normalization_1 (BatchNor (None, 256, 256, 64) 256         conv2d_2[0][0]                   \n__________________________________________________________________________________________________\nlambda (Lambda)                 (None, 256, 256, 64) 0           conv2d_1[0][0]                   \n__________________________________________________________________________________________________\nadd (Add)                       (None, 256, 256, 64) 0           batch_normalization_1[0][0]      \n                                                                 lambda[0][0]                     \n__________________________________________________________________________________________________\nbatch_normalization_3 (BatchNor (None, 256, 256, 64) 256         add[0][0]                        \n__________________________________________________________________________________________________\nactivation_2 (Activation)       (None, 256, 256, 64) 0           batch_normalization_3[0][0]      \n__________________________________________________________________________________________________\nconv2d_4 (Conv2D)               (None, 128, 128, 128 73856       activation_2[0][0]               \n__________________________________________________________________________________________________\nbatch_normalization_4 (BatchNor (None, 128, 128, 128 512         conv2d_4[0][0]                   \n__________________________________________________________________________________________________\nconv2d_3 (Conv2D)               (None, 128, 128, 128 512         input_1[0][0]                    \n__________________________________________________________________________________________________\nactivation_3 (Activation)       (None, 128, 128, 128 0           batch_normalization_4[0][0]      \n__________________________________________________________________________________________________\nbatch_normalization_2 (BatchNor (None, 128, 128, 128 512         conv2d_3[0][0]                   \n__________________________________________________________________________________________________\nconv2d_6 (Conv2D)               (None, 128, 128, 128 8320        add[0][0]                        \n__________________________________________________________________________________________________\nconv2d_5 (Conv2D)               (None, 128, 128, 128 147584      activation_3[0][0]               \n__________________________________________________________________________________________________\nactivation_1 (Activation)       (None, 128, 128, 128 0           batch_normalization_2[0][0]      \n__________________________________________________________________________________________________\nbatch_normalization_5 (BatchNor (None, 128, 128, 128 512         conv2d_6[0][0]                   \n__________________________________________________________________________________________________\nlambda_1 (Lambda)               (None, 128, 128, 128 0           conv2d_5[0][0]                   \n__________________________________________________________________________________________________\ndropout (Dropout)               (None, 128, 128, 128 0           activation_1[0][0]               \n__________________________________________________________________________________________________\nadd_1 (Add)                     (None, 128, 128, 128 0           batch_normalization_5[0][0]      \n                                                                 lambda_1[0][0]                   \n__________________________________________________________________________________________________\naverage (Average)               (None, 128, 128, 128 0           dropout[0][0]                    \n                                                                 add_1[0][0]                      \n__________________________________________________________________________________________________\nbatch_normalization_6 (BatchNor (None, 128, 128, 128 512         average[0][0]                    \n__________________________________________________________________________________________________\nactivation_4 (Activation)       (None, 128, 128, 128 0           batch_normalization_6[0][0]      \n__________________________________________________________________________________________________\nconv2d_7 (Conv2D)               (None, 64, 64, 256)  295168      activation_4[0][0]               \n__________________________________________________________________________________________________\nbatch_normalization_7 (BatchNor (None, 64, 64, 256)  1024        conv2d_7[0][0]                   \n__________________________________________________________________________________________________\nactivation_5 (Activation)       (None, 64, 64, 256)  0           batch_normalization_7[0][0]      \n__________________________________________________________________________________________________\nconv2d_9 (Conv2D)               (None, 64, 64, 256)  33024       average[0][0]                    \n__________________________________________________________________________________________________\nconv2d_8 (Conv2D)               (None, 64, 64, 256)  590080      activation_5[0][0]               \n__________________________________________________________________________________________________\nbatch_normalization_8 (BatchNor (None, 64, 64, 256)  1024        conv2d_9[0][0]                   \n__________________________________________________________________________________________________\nlambda_2 (Lambda)               (None, 64, 64, 256)  0           conv2d_8[0][0]                   \n__________________________________________________________________________________________________\nadd_2 (Add)                     (None, 64, 64, 256)  0           batch_normalization_8[0][0]      \n                                                                 lambda_2[0][0]                   \n__________________________________________________________________________________________________\nbatch_normalization_10 (BatchNo (None, 64, 64, 256)  1024        add_2[0][0]                      \n__________________________________________________________________________________________________\nactivation_7 (Activation)       (None, 64, 64, 256)  0           batch_normalization_10[0][0]     \n__________________________________________________________________________________________________\nconv2d_11 (Conv2D)              (None, 32, 32, 512)  1180160     activation_7[0][0]               \n__________________________________________________________________________________________________\nbatch_normalization_11 (BatchNo (None, 32, 32, 512)  2048        conv2d_11[0][0]                  \n__________________________________________________________________________________________________\nconv2d_10 (Conv2D)              (None, 32, 32, 512)  66048       average[0][0]                    \n__________________________________________________________________________________________________\nactivation_8 (Activation)       (None, 32, 32, 512)  0           batch_normalization_11[0][0]     \n__________________________________________________________________________________________________\nbatch_normalization_9 (BatchNor (None, 32, 32, 512)  2048        conv2d_10[0][0]                  \n__________________________________________________________________________________________________\nconv2d_13 (Conv2D)              (None, 32, 32, 512)  131584      add_2[0][0]                      \n__________________________________________________________________________________________________\nconv2d_12 (Conv2D)              (None, 32, 32, 512)  2359808     activation_8[0][0]               \n__________________________________________________________________________________________________\nactivation_6 (Activation)       (None, 32, 32, 512)  0           batch_normalization_9[0][0]      \n__________________________________________________________________________________________________\nbatch_normalization_12 (BatchNo (None, 32, 32, 512)  2048        conv2d_13[0][0]                  \n__________________________________________________________________________________________________\nlambda_3 (Lambda)               (None, 32, 32, 512)  0           conv2d_12[0][0]                  \n__________________________________________________________________________________________________\ndropout_1 (Dropout)             (None, 32, 32, 512)  0           activation_6[0][0]               \n__________________________________________________________________________________________________\nadd_3 (Add)                     (None, 32, 32, 512)  0           batch_normalization_12[0][0]     \n                                                                 lambda_3[0][0]                   \n__________________________________________________________________________________________________\naverage_1 (Average)             (None, 32, 32, 512)  0           dropout_1[0][0]                  \n                                                                 add_3[0][0]                      \n__________________________________________________________________________________________________\nbatch_normalization_13 (BatchNo (None, 32, 32, 512)  2048        average_1[0][0]                  \n__________________________________________________________________________________________________\nactivation_9 (Activation)       (None, 32, 32, 512)  0           batch_normalization_13[0][0]     \n__________________________________________________________________________________________________\nconv2d_14 (Conv2D)              (None, 16, 16, 1024) 4719616     activation_9[0][0]               \n__________________________________________________________________________________________________\nbatch_normalization_14 (BatchNo (None, 16, 16, 1024) 4096        conv2d_14[0][0]                  \n__________________________________________________________________________________________________\nactivation_10 (Activation)      (None, 16, 16, 1024) 0           batch_normalization_14[0][0]     \n__________________________________________________________________________________________________\nconv2d_16 (Conv2D)              (None, 16, 16, 1024) 525312      average_1[0][0]                  \n__________________________________________________________________________________________________\nconv2d_15 (Conv2D)              (None, 16, 16, 1024) 9438208     activation_10[0][0]              \n__________________________________________________________________________________________________\nbatch_normalization_15 (BatchNo (None, 16, 16, 1024) 4096        conv2d_16[0][0]                  \n__________________________________________________________________________________________________\nlambda_4 (Lambda)               (None, 16, 16, 1024) 0           conv2d_15[0][0]                  \n__________________________________________________________________________________________________\nadd_4 (Add)                     (None, 16, 16, 1024) 0           batch_normalization_15[0][0]     \n                                                                 lambda_4[0][0]                   \n__________________________________________________________________________________________________\nflatten (Flatten)               (None, 262144)       0           add_4[0][0]                      \n__________________________________________________________________________________________________\ndense (Dense)                   (None, 512)          134218240   flatten[0][0]                    \n__________________________________________________________________________________________________\ndropout_2 (Dropout)             (None, 512)          0           dense[0][0]                      \n__________________________________________________________________________________________________\ndense_1 (Dense)                 (None, 128)          65664       dropout_2[0][0]                  \n__________________________________________________________________________________________________\ndropout_3 (Dropout)             (None, 128)          0           dense_1[0][0]                    \n__________________________________________________________________________________________________\ndense_2 (Dense)                 (None, 64)           8256        dropout_3[0][0]                  \n__________________________________________________________________________________________________\ndropout_4 (Dropout)             (None, 64)           0           dense_2[0][0]                    \n__________________________________________________________________________________________________\ndense_3 (Dense)                 (None, 1)            65          dropout_4[0][0]                  \n==================================================================================================\nTotal params: 153,922,753\nTrainable params: 153,911,617\nNon-trainable params: 11,136\n__________________________________________________________________________________________________\n",
          "output_type": "stream"
        }
      ]
    },
    {
      "cell_type": "markdown",
      "metadata": {
        "id": "PBgZvjZh7BQr"
      },
      "source": [
        "# ****Model 3****"
      ]
    },
    {
      "cell_type": "code",
      "metadata": {
        "id": "I9gu8PNm7FY5",
        "execution": {
          "iopub.status.busy": "2021-09-01T17:04:58.833240Z",
          "iopub.execute_input": "2021-09-01T17:04:58.833574Z",
          "iopub.status.idle": "2021-09-01T17:04:59.183558Z",
          "shell.execute_reply.started": "2021-09-01T17:04:58.833543Z",
          "shell.execute_reply": "2021-09-01T17:04:59.182733Z"
        },
        "trusted": true,
        "outputId": "ed4cc1de-21fb-46b3-8fe6-59d5135ed31b"
      },
      "source": [
        "def res2unet_SepConv(lrate=8.00E-05,pretrained_weights=None):\n",
        "    print(lrate)\n",
        "    input_size=(IMG_SIZE, IMG_SIZE, 3)\n",
        "    inputs = Input(shape=input_size)\n",
        "\n",
        "    Feature_Extracted = encoder(inputs)\n",
        "\n",
        "    #path = res_block(to_decoder[-1], [1024, 1024], [(2, 2), (1, 1)])####bridge\n",
        "    path = SeparableConv2D(512, (3,3), activation = 'relu', padding = 'same'  )(Feature_Extracted[-1])\n",
        "    path = SeparableConv2D(512, (3,3), activation = 'relu', padding = 'same'  )(path)\n",
        "    path = BatchNormalization()(path)\n",
        "    path = MaxPooling2D(pool_size = (2,2))(path)\n",
        "    #path = Dropout(0.2)(path)\n",
        "\n",
        "\n",
        "    # FC layer \n",
        "    x = Flatten()(path)\n",
        "    \n",
        "    x = Dense(units = 512 , activation = 'relu'  )(x)\n",
        "    x = Dropout(0.7)(x)\n",
        "    x = Dense(units = 128 , activation = 'relu'  )(x)\n",
        "    x = Dropout(0.5)(x)\n",
        "    x=  Dense(units = 64 , activation = 'relu' )(x)\n",
        "    x = Dropout(0.3)(x)\n",
        "    \n",
        "    # Output layer\n",
        "    # For dense = 1  or for binary classification, we use activation = \"linear\"\n",
        "    output  = Dense(units = 1 ,kernel_regularizer = tf.keras.regularizers.l2(0.01), activation = 'linear')(x)\n",
        "    \n",
        "    model = Model(inputs=inputs, outputs=output )\n",
        "    \n",
        "    #model.compile(optimizer=Adam(lr=lrate), loss = 'sparse_categorical_crossentropy', metrics = ['accuracy',precision,recall])\n",
        "    # For SVM as last layer we use Different Loss Function \"squared_hinge\" for multi-class and \"hinge\" loss for binary class \n",
        "    \n",
        "    model.compile(optimizer=Adam(lr=lrate), loss = 'hinge', metrics = ['accuracy',precision,recall])\n",
        "\n",
        "    model.summary()\n",
        "    if (pretrained_weights):\n",
        "        model.load_weights(pretrained_weights)\n",
        "    return model\n",
        "    \n",
        "\n",
        "model3 = res2unet_SepConv(lrate=7.00E-05)\n",
        "#model.compile(optimizer = \"adam\" , loss = 'sparse_categorical_crossentropy' , metrics = ['accuracy'])\n",
        "\n",
        "from tensorflow.keras.callbacks import EarlyStopping, ModelCheckpoint, ReduceLROnPlateau\n",
        "\n",
        "#early_stop = EarlyStopping(monitor='val_loss', min_delta=0.1, patience=5, verbose = 1, mode='min', restore_best_weights = True)\n",
        "\n",
        "learning_rate_reduction = ReduceLROnPlateau(\n",
        "    monitor = 'val_accuracy', \n",
        "    patience = 3, \n",
        "    verbose = 1, \n",
        "    factor = 0.3, \n",
        "    #min_lr = 0.000001\n",
        "    )\n",
        "\n",
        "\n",
        "model_checkpoint1 = keras.callbacks.ModelCheckpoint('Model_Weights3.hdf5', monitor='val_accuracy',verbose=1, mode='max',save_best_only=True)\n",
        "csv_logger = CSVLogger('training_model_metrics_values.log', append=True, separator=';')\n",
        "\n"
      ],
      "execution_count": null,
      "outputs": [
        {
          "name": "stdout",
          "text": "7e-05\nModel: \"model_1\"\n__________________________________________________________________________________________________\nLayer (type)                    Output Shape         Param #     Connected to                     \n==================================================================================================\ninput_2 (InputLayer)            [(None, 256, 256, 3) 0                                            \n__________________________________________________________________________________________________\nconv2d_17 (Conv2D)              (None, 256, 256, 64) 1792        input_2[0][0]                    \n__________________________________________________________________________________________________\nbatch_normalization_16 (BatchNo (None, 256, 256, 64) 256         conv2d_17[0][0]                  \n__________________________________________________________________________________________________\nactivation_11 (Activation)      (None, 256, 256, 64) 0           batch_normalization_16[0][0]     \n__________________________________________________________________________________________________\nconv2d_19 (Conv2D)              (None, 256, 256, 64) 256         input_2[0][0]                    \n__________________________________________________________________________________________________\nconv2d_18 (Conv2D)              (None, 256, 256, 64) 36928       activation_11[0][0]              \n__________________________________________________________________________________________________\nbatch_normalization_17 (BatchNo (None, 256, 256, 64) 256         conv2d_19[0][0]                  \n__________________________________________________________________________________________________\nlambda_5 (Lambda)               (None, 256, 256, 64) 0           conv2d_18[0][0]                  \n__________________________________________________________________________________________________\nadd_5 (Add)                     (None, 256, 256, 64) 0           batch_normalization_17[0][0]     \n                                                                 lambda_5[0][0]                   \n__________________________________________________________________________________________________\nbatch_normalization_19 (BatchNo (None, 256, 256, 64) 256         add_5[0][0]                      \n__________________________________________________________________________________________________\nactivation_13 (Activation)      (None, 256, 256, 64) 0           batch_normalization_19[0][0]     \n__________________________________________________________________________________________________\nconv2d_21 (Conv2D)              (None, 128, 128, 128 73856       activation_13[0][0]              \n__________________________________________________________________________________________________\nbatch_normalization_20 (BatchNo (None, 128, 128, 128 512         conv2d_21[0][0]                  \n__________________________________________________________________________________________________\nconv2d_20 (Conv2D)              (None, 128, 128, 128 512         input_2[0][0]                    \n__________________________________________________________________________________________________\nactivation_14 (Activation)      (None, 128, 128, 128 0           batch_normalization_20[0][0]     \n__________________________________________________________________________________________________\nbatch_normalization_18 (BatchNo (None, 128, 128, 128 512         conv2d_20[0][0]                  \n__________________________________________________________________________________________________\nconv2d_23 (Conv2D)              (None, 128, 128, 128 8320        add_5[0][0]                      \n__________________________________________________________________________________________________\nconv2d_22 (Conv2D)              (None, 128, 128, 128 147584      activation_14[0][0]              \n__________________________________________________________________________________________________\nactivation_12 (Activation)      (None, 128, 128, 128 0           batch_normalization_18[0][0]     \n__________________________________________________________________________________________________\nbatch_normalization_21 (BatchNo (None, 128, 128, 128 512         conv2d_23[0][0]                  \n__________________________________________________________________________________________________\nlambda_6 (Lambda)               (None, 128, 128, 128 0           conv2d_22[0][0]                  \n__________________________________________________________________________________________________\ndropout_5 (Dropout)             (None, 128, 128, 128 0           activation_12[0][0]              \n__________________________________________________________________________________________________\nadd_6 (Add)                     (None, 128, 128, 128 0           batch_normalization_21[0][0]     \n                                                                 lambda_6[0][0]                   \n__________________________________________________________________________________________________\naverage_2 (Average)             (None, 128, 128, 128 0           dropout_5[0][0]                  \n                                                                 add_6[0][0]                      \n__________________________________________________________________________________________________\nbatch_normalization_22 (BatchNo (None, 128, 128, 128 512         average_2[0][0]                  \n__________________________________________________________________________________________________\nactivation_15 (Activation)      (None, 128, 128, 128 0           batch_normalization_22[0][0]     \n__________________________________________________________________________________________________\nconv2d_24 (Conv2D)              (None, 64, 64, 256)  295168      activation_15[0][0]              \n__________________________________________________________________________________________________\nbatch_normalization_23 (BatchNo (None, 64, 64, 256)  1024        conv2d_24[0][0]                  \n__________________________________________________________________________________________________\nactivation_16 (Activation)      (None, 64, 64, 256)  0           batch_normalization_23[0][0]     \n__________________________________________________________________________________________________\nconv2d_26 (Conv2D)              (None, 64, 64, 256)  33024       average_2[0][0]                  \n__________________________________________________________________________________________________\nconv2d_25 (Conv2D)              (None, 64, 64, 256)  590080      activation_16[0][0]              \n__________________________________________________________________________________________________\nbatch_normalization_24 (BatchNo (None, 64, 64, 256)  1024        conv2d_26[0][0]                  \n__________________________________________________________________________________________________\nlambda_7 (Lambda)               (None, 64, 64, 256)  0           conv2d_25[0][0]                  \n__________________________________________________________________________________________________\nadd_7 (Add)                     (None, 64, 64, 256)  0           batch_normalization_24[0][0]     \n                                                                 lambda_7[0][0]                   \n__________________________________________________________________________________________________\nbatch_normalization_26 (BatchNo (None, 64, 64, 256)  1024        add_7[0][0]                      \n__________________________________________________________________________________________________\nactivation_18 (Activation)      (None, 64, 64, 256)  0           batch_normalization_26[0][0]     \n__________________________________________________________________________________________________\nconv2d_28 (Conv2D)              (None, 32, 32, 512)  1180160     activation_18[0][0]              \n__________________________________________________________________________________________________\nbatch_normalization_27 (BatchNo (None, 32, 32, 512)  2048        conv2d_28[0][0]                  \n__________________________________________________________________________________________________\nconv2d_27 (Conv2D)              (None, 32, 32, 512)  66048       average_2[0][0]                  \n__________________________________________________________________________________________________\nactivation_19 (Activation)      (None, 32, 32, 512)  0           batch_normalization_27[0][0]     \n__________________________________________________________________________________________________\nbatch_normalization_25 (BatchNo (None, 32, 32, 512)  2048        conv2d_27[0][0]                  \n__________________________________________________________________________________________________\nconv2d_30 (Conv2D)              (None, 32, 32, 512)  131584      add_7[0][0]                      \n__________________________________________________________________________________________________\nconv2d_29 (Conv2D)              (None, 32, 32, 512)  2359808     activation_19[0][0]              \n__________________________________________________________________________________________________\nactivation_17 (Activation)      (None, 32, 32, 512)  0           batch_normalization_25[0][0]     \n__________________________________________________________________________________________________\nbatch_normalization_28 (BatchNo (None, 32, 32, 512)  2048        conv2d_30[0][0]                  \n__________________________________________________________________________________________________\nlambda_8 (Lambda)               (None, 32, 32, 512)  0           conv2d_29[0][0]                  \n__________________________________________________________________________________________________\ndropout_6 (Dropout)             (None, 32, 32, 512)  0           activation_17[0][0]              \n__________________________________________________________________________________________________\nadd_8 (Add)                     (None, 32, 32, 512)  0           batch_normalization_28[0][0]     \n                                                                 lambda_8[0][0]                   \n__________________________________________________________________________________________________\naverage_3 (Average)             (None, 32, 32, 512)  0           dropout_6[0][0]                  \n                                                                 add_8[0][0]                      \n__________________________________________________________________________________________________\nseparable_conv2d (SeparableConv (None, 32, 32, 512)  267264      average_3[0][0]                  \n__________________________________________________________________________________________________\nseparable_conv2d_1 (SeparableCo (None, 32, 32, 512)  267264      separable_conv2d[0][0]           \n__________________________________________________________________________________________________\nbatch_normalization_29 (BatchNo (None, 32, 32, 512)  2048        separable_conv2d_1[0][0]         \n__________________________________________________________________________________________________\nmax_pooling2d (MaxPooling2D)    (None, 16, 16, 512)  0           batch_normalization_29[0][0]     \n__________________________________________________________________________________________________\nflatten_1 (Flatten)             (None, 131072)       0           max_pooling2d[0][0]              \n__________________________________________________________________________________________________\ndense_4 (Dense)                 (None, 512)          67109376    flatten_1[0][0]                  \n__________________________________________________________________________________________________\ndropout_7 (Dropout)             (None, 512)          0           dense_4[0][0]                    \n__________________________________________________________________________________________________\ndense_5 (Dense)                 (None, 128)          65664       dropout_7[0][0]                  \n__________________________________________________________________________________________________\ndropout_8 (Dropout)             (None, 128)          0           dense_5[0][0]                    \n__________________________________________________________________________________________________\ndense_6 (Dense)                 (None, 64)           8256        dropout_8[0][0]                  \n__________________________________________________________________________________________________\ndropout_9 (Dropout)             (None, 64)           0           dense_6[0][0]                    \n__________________________________________________________________________________________________\ndense_7 (Dense)                 (None, 1)            65          dropout_9[0][0]                  \n==================================================================================================\nTotal params: 72,657,089\nTrainable params: 72,650,049\nNon-trainable params: 7,040\n__________________________________________________________________________________________________\n",
          "output_type": "stream"
        }
      ]
    },
    {
      "cell_type": "code",
      "metadata": {
        "execution": {
          "iopub.status.busy": "2021-09-01T17:05:19.677948Z",
          "iopub.execute_input": "2021-09-01T17:05:19.678274Z",
          "iopub.status.idle": "2021-09-01T17:32:15.636245Z",
          "shell.execute_reply.started": "2021-09-01T17:05:19.678246Z",
          "shell.execute_reply": "2021-09-01T17:32:15.634581Z"
        },
        "trusted": true,
        "id": "czS5KRniBx6D",
        "outputId": "4d3bb93c-3750-4fea-c29c-d66d8376c803"
      },
      "source": [
        "history3 = model3.fit(\n",
        "    train_images, \n",
        "    train_labels, \n",
        "    batch_size = 2, \n",
        "    epochs = 50, \n",
        "    validation_data=(val_images, val_labels), \n",
        "    callbacks=[ model_checkpoint1 ,csv_logger  ])"
      ],
      "execution_count": null,
      "outputs": [
        {
          "name": "stdout",
          "text": "Epoch 1/50\n600/600 [==============================] - 41s 55ms/step - loss: 0.8786 - accuracy: 0.5856 - precision: 0.5406 - recall: 0.4573 - val_loss: 0.8698 - val_accuracy: 0.3933 - val_precision: 0.1067 - val_recall: 0.0600\n\nEpoch 00001: val_accuracy improved from -inf to 0.39333, saving model to Model_Weights3.hdf5\nEpoch 2/50\n600/600 [==============================] - 32s 53ms/step - loss: 0.4705 - accuracy: 0.8045 - precision: 0.7809 - recall: 0.7275 - val_loss: 0.2514 - val_accuracy: 0.8800 - val_precision: 0.7600 - val_recall: 0.7133\n\nEpoch 00002: val_accuracy improved from 0.39333 to 0.88000, saving model to Model_Weights3.hdf5\nEpoch 3/50\n600/600 [==============================] - 32s 53ms/step - loss: 0.2854 - accuracy: 0.8875 - precision: 0.8042 - recall: 0.7692 - val_loss: 0.1108 - val_accuracy: 0.9600 - val_precision: 0.8733 - val_recall: 0.8600\n\nEpoch 00003: val_accuracy improved from 0.88000 to 0.96000, saving model to Model_Weights3.hdf5\nEpoch 4/50\n600/600 [==============================] - 32s 53ms/step - loss: 0.2507 - accuracy: 0.9056 - precision: 0.8112 - recall: 0.7867 - val_loss: 0.1527 - val_accuracy: 0.9267 - val_precision: 0.8067 - val_recall: 0.7933\n\nEpoch 00004: val_accuracy did not improve from 0.96000\nEpoch 5/50\n600/600 [==============================] - 32s 53ms/step - loss: 0.2270 - accuracy: 0.9087 - precision: 0.7949 - recall: 0.7796 - val_loss: 0.0808 - val_accuracy: 0.9800 - val_precision: 0.8733 - val_recall: 0.8800\n\nEpoch 00005: val_accuracy improved from 0.96000 to 0.98000, saving model to Model_Weights3.hdf5\nEpoch 6/50\n600/600 [==============================] - 32s 53ms/step - loss: 0.1321 - accuracy: 0.9572 - precision: 0.8437 - recall: 0.8398 - val_loss: 0.1271 - val_accuracy: 0.9667 - val_precision: 0.8667 - val_recall: 0.8800\n\nEpoch 00006: val_accuracy did not improve from 0.98000\nEpoch 7/50\n600/600 [==============================] - 32s 53ms/step - loss: 0.1437 - accuracy: 0.9512 - precision: 0.8284 - recall: 0.8335 - val_loss: 0.0837 - val_accuracy: 0.9800 - val_precision: 0.8733 - val_recall: 0.8800\n\nEpoch 00007: val_accuracy did not improve from 0.98000\nEpoch 8/50\n600/600 [==============================] - 32s 53ms/step - loss: 0.1186 - accuracy: 0.9570 - precision: 0.8503 - recall: 0.8476 - val_loss: 0.1217 - val_accuracy: 0.9533 - val_precision: 0.8400 - val_recall: 0.8267\n\nEpoch 00008: val_accuracy did not improve from 0.98000\nEpoch 9/50\n600/600 [==============================] - 32s 53ms/step - loss: 0.1343 - accuracy: 0.9478 - precision: 0.8148 - recall: 0.8094 - val_loss: 0.1711 - val_accuracy: 0.9133 - val_precision: 0.8400 - val_recall: 0.7800\n\nEpoch 00009: val_accuracy did not improve from 0.98000\nEpoch 10/50\n600/600 [==============================] - 32s 53ms/step - loss: 0.1352 - accuracy: 0.9526 - precision: 0.8600 - recall: 0.8515 - val_loss: 0.0793 - val_accuracy: 0.9800 - val_precision: 0.8733 - val_recall: 0.8800\n\nEpoch 00010: val_accuracy did not improve from 0.98000\nEpoch 11/50\n600/600 [==============================] - 32s 53ms/step - loss: 0.0878 - accuracy: 0.9706 - precision: 0.8317 - recall: 0.8238 - val_loss: 0.1857 - val_accuracy: 0.9733 - val_precision: 0.8667 - val_recall: 0.8800\n\nEpoch 00011: val_accuracy did not improve from 0.98000\nEpoch 12/50\n600/600 [==============================] - 32s 53ms/step - loss: 0.1025 - accuracy: 0.9672 - precision: 0.8378 - recall: 0.8379 - val_loss: 0.0947 - val_accuracy: 0.9800 - val_precision: 0.8733 - val_recall: 0.8800\n\nEpoch 00012: val_accuracy did not improve from 0.98000\nEpoch 13/50\n600/600 [==============================] - 32s 53ms/step - loss: 0.0715 - accuracy: 0.9759 - precision: 0.8306 - recall: 0.8265 - val_loss: 0.0902 - val_accuracy: 0.9800 - val_precision: 0.8733 - val_recall: 0.8800\n\nEpoch 00013: val_accuracy did not improve from 0.98000\nEpoch 14/50\n600/600 [==============================] - 32s 53ms/step - loss: 0.0434 - accuracy: 0.9923 - precision: 0.8531 - recall: 0.8459 - val_loss: 0.1149 - val_accuracy: 0.9800 - val_precision: 0.8733 - val_recall: 0.8800\n\nEpoch 00014: val_accuracy did not improve from 0.98000\nEpoch 15/50\n600/600 [==============================] - 32s 53ms/step - loss: 0.0999 - accuracy: 0.9636 - precision: 0.8572 - recall: 0.8462 - val_loss: 0.1242 - val_accuracy: 0.9800 - val_precision: 0.8733 - val_recall: 0.8800\n\nEpoch 00015: val_accuracy did not improve from 0.98000\nEpoch 16/50\n600/600 [==============================] - 32s 53ms/step - loss: 0.0725 - accuracy: 0.9748 - precision: 0.8676 - recall: 0.8582 - val_loss: 0.1268 - val_accuracy: 0.9800 - val_precision: 0.8733 - val_recall: 0.8800\n\nEpoch 00016: val_accuracy did not improve from 0.98000\nEpoch 17/50\n600/600 [==============================] - 32s 53ms/step - loss: 0.0606 - accuracy: 0.9825 - precision: 0.8492 - recall: 0.8418 - val_loss: 0.1523 - val_accuracy: 0.9800 - val_precision: 0.8733 - val_recall: 0.8800\n\nEpoch 00017: val_accuracy did not improve from 0.98000\nEpoch 18/50\n600/600 [==============================] - 32s 53ms/step - loss: 0.0714 - accuracy: 0.9780 - precision: 0.8476 - recall: 0.8449 - val_loss: 0.1173 - val_accuracy: 0.9800 - val_precision: 0.8733 - val_recall: 0.8800\n\nEpoch 00018: val_accuracy did not improve from 0.98000\nEpoch 19/50\n600/600 [==============================] - 32s 53ms/step - loss: 0.0555 - accuracy: 0.9830 - precision: 0.8273 - recall: 0.8196 - val_loss: 0.1037 - val_accuracy: 0.9800 - val_precision: 0.8733 - val_recall: 0.8800\n\nEpoch 00019: val_accuracy did not improve from 0.98000\nEpoch 20/50\n600/600 [==============================] - 32s 53ms/step - loss: 0.0390 - accuracy: 0.9902 - precision: 0.8682 - recall: 0.8642 - val_loss: 0.1438 - val_accuracy: 0.9533 - val_precision: 0.8333 - val_recall: 0.8267\n\nEpoch 00020: val_accuracy did not improve from 0.98000\nEpoch 21/50\n600/600 [==============================] - 32s 53ms/step - loss: 0.0418 - accuracy: 0.9908 - precision: 0.8758 - recall: 0.8754 - val_loss: 0.0857 - val_accuracy: 0.9800 - val_precision: 0.8733 - val_recall: 0.8800\n\nEpoch 00021: val_accuracy did not improve from 0.98000\nEpoch 22/50\n600/600 [==============================] - 32s 53ms/step - loss: 0.0278 - accuracy: 0.9950 - precision: 0.8848 - recall: 0.8839 - val_loss: 0.2995 - val_accuracy: 0.9600 - val_precision: 0.8600 - val_recall: 0.8800\n\nEpoch 00022: val_accuracy did not improve from 0.98000\nEpoch 23/50\n600/600 [==============================] - 32s 53ms/step - loss: 0.0324 - accuracy: 0.9926 - precision: 0.8651 - recall: 0.8623 - val_loss: 0.1369 - val_accuracy: 0.9667 - val_precision: 0.8600 - val_recall: 0.8600\n\nEpoch 00023: val_accuracy did not improve from 0.98000\nEpoch 24/50\n600/600 [==============================] - 32s 53ms/step - loss: 0.0686 - accuracy: 0.9866 - precision: 0.8467 - recall: 0.8449 - val_loss: 0.0998 - val_accuracy: 0.9800 - val_precision: 0.8733 - val_recall: 0.8800\n\nEpoch 00024: val_accuracy did not improve from 0.98000\nEpoch 25/50\n600/600 [==============================] - 32s 53ms/step - loss: 0.0424 - accuracy: 0.9935 - precision: 0.8752 - recall: 0.8745 - val_loss: 0.1072 - val_accuracy: 0.9733 - val_precision: 0.8733 - val_recall: 0.8733\n\nEpoch 00025: val_accuracy did not improve from 0.98000\nEpoch 26/50\n600/600 [==============================] - 32s 53ms/step - loss: 0.0347 - accuracy: 0.9898 - precision: 0.8556 - recall: 0.8545 - val_loss: 0.1094 - val_accuracy: 0.9733 - val_precision: 0.8733 - val_recall: 0.8733\n\nEpoch 00026: val_accuracy did not improve from 0.98000\nEpoch 27/50\n600/600 [==============================] - 32s 53ms/step - loss: 0.0356 - accuracy: 0.9913 - precision: 0.8597 - recall: 0.8556 - val_loss: 0.1075 - val_accuracy: 0.9733 - val_precision: 0.8733 - val_recall: 0.8733\n\nEpoch 00027: val_accuracy did not improve from 0.98000\nEpoch 28/50\n600/600 [==============================] - 32s 53ms/step - loss: 0.0171 - accuracy: 0.9984 - precision: 0.8365 - recall: 0.8362 - val_loss: 0.1093 - val_accuracy: 0.9800 - val_precision: 0.8733 - val_recall: 0.8800\n\nEpoch 00028: val_accuracy did not improve from 0.98000\nEpoch 29/50\n600/600 [==============================] - 32s 53ms/step - loss: 0.0230 - accuracy: 0.9960 - precision: 0.8414 - recall: 0.8385 - val_loss: 0.1622 - val_accuracy: 0.9800 - val_precision: 0.8733 - val_recall: 0.8800\n\nEpoch 00029: val_accuracy did not improve from 0.98000\nEpoch 30/50\n600/600 [==============================] - 32s 53ms/step - loss: 0.0380 - accuracy: 0.9920 - precision: 0.8531 - recall: 0.8501 - val_loss: 0.1302 - val_accuracy: 0.9600 - val_precision: 0.8667 - val_recall: 0.8467\n\nEpoch 00030: val_accuracy did not improve from 0.98000\nEpoch 31/50\n600/600 [==============================] - 32s 53ms/step - loss: 0.0469 - accuracy: 0.9873 - precision: 0.8754 - recall: 0.8693 - val_loss: 0.1552 - val_accuracy: 0.9800 - val_precision: 0.8733 - val_recall: 0.8800\n\nEpoch 00031: val_accuracy did not improve from 0.98000\nEpoch 32/50\n600/600 [==============================] - 32s 53ms/step - loss: 0.0261 - accuracy: 0.9944 - precision: 0.8351 - recall: 0.8322 - val_loss: 0.1500 - val_accuracy: 0.9800 - val_precision: 0.8733 - val_recall: 0.8800\n\nEpoch 00032: val_accuracy did not improve from 0.98000\nEpoch 33/50\n600/600 [==============================] - 32s 53ms/step - loss: 0.0193 - accuracy: 0.9975 - precision: 0.8735 - recall: 0.8750 - val_loss: 0.1500 - val_accuracy: 0.9800 - val_precision: 0.8733 - val_recall: 0.8800\n\nEpoch 00033: val_accuracy did not improve from 0.98000\nEpoch 34/50\n600/600 [==============================] - 32s 53ms/step - loss: 0.0291 - accuracy: 0.9932 - precision: 0.8868 - recall: 0.8853 - val_loss: 0.1824 - val_accuracy: 0.9800 - val_precision: 0.8733 - val_recall: 0.8800\n\nEpoch 00034: val_accuracy did not improve from 0.98000\nEpoch 35/50\n600/600 [==============================] - 32s 53ms/step - loss: 0.0253 - accuracy: 0.9931 - precision: 0.8702 - recall: 0.8688 - val_loss: 0.0768 - val_accuracy: 0.9800 - val_precision: 0.8733 - val_recall: 0.8800\n\nEpoch 00035: val_accuracy did not improve from 0.98000\nEpoch 36/50\n600/600 [==============================] - 32s 53ms/step - loss: 0.0447 - accuracy: 0.9836 - precision: 0.8646 - recall: 0.8663 - val_loss: 0.2104 - val_accuracy: 0.9733 - val_precision: 0.8667 - val_recall: 0.8800\n\nEpoch 00036: val_accuracy did not improve from 0.98000\nEpoch 37/50\n600/600 [==============================] - 32s 53ms/step - loss: 0.0268 - accuracy: 0.9936 - precision: 0.8672 - recall: 0.8641 - val_loss: 0.0975 - val_accuracy: 0.9800 - val_precision: 0.8733 - val_recall: 0.8800\n\nEpoch 00037: val_accuracy did not improve from 0.98000\nEpoch 38/50\n600/600 [==============================] - 32s 53ms/step - loss: 0.0221 - accuracy: 0.9966 - precision: 0.8738 - recall: 0.8722 - val_loss: 0.1357 - val_accuracy: 0.9800 - val_precision: 0.8733 - val_recall: 0.8800\n\nEpoch 00038: val_accuracy did not improve from 0.98000\nEpoch 39/50\n600/600 [==============================] - 32s 53ms/step - loss: 0.0157 - accuracy: 0.9981 - precision: 0.9114 - recall: 0.9104 - val_loss: 0.0899 - val_accuracy: 0.9867 - val_precision: 0.8733 - val_recall: 0.8800\n\nEpoch 00039: val_accuracy improved from 0.98000 to 0.98667, saving model to Model_Weights3.hdf5\nEpoch 40/50\n600/600 [==============================] - 32s 53ms/step - loss: 0.0219 - accuracy: 0.9942 - precision: 0.8685 - recall: 0.8654 - val_loss: 0.1367 - val_accuracy: 0.9800 - val_precision: 0.8733 - val_recall: 0.8800\n\nEpoch 00040: val_accuracy did not improve from 0.98667\nEpoch 41/50\n600/600 [==============================] - 32s 53ms/step - loss: 0.0154 - accuracy: 0.9976 - precision: 0.8738 - recall: 0.8728 - val_loss: 0.1645 - val_accuracy: 0.9800 - val_precision: 0.8733 - val_recall: 0.8800\n\nEpoch 00041: val_accuracy did not improve from 0.98667\nEpoch 42/50\n600/600 [==============================] - 32s 53ms/step - loss: 0.0276 - accuracy: 0.9950 - precision: 0.8717 - recall: 0.8673 - val_loss: 0.1795 - val_accuracy: 0.9800 - val_precision: 0.8733 - val_recall: 0.8800\n\nEpoch 00042: val_accuracy did not improve from 0.98667\nEpoch 43/50\n600/600 [==============================] - 32s 53ms/step - loss: 0.0249 - accuracy: 0.9945 - precision: 0.8549 - recall: 0.8552 - val_loss: 0.1824 - val_accuracy: 0.9800 - val_precision: 0.8733 - val_recall: 0.8800\n\nEpoch 00043: val_accuracy did not improve from 0.98667\nEpoch 44/50\n600/600 [==============================] - 32s 53ms/step - loss: 0.0236 - accuracy: 0.9967 - precision: 0.8560 - recall: 0.8549 - val_loss: 0.2133 - val_accuracy: 0.9800 - val_precision: 0.8733 - val_recall: 0.8800\n\nEpoch 00044: val_accuracy did not improve from 0.98667\nEpoch 45/50\n600/600 [==============================] - 32s 53ms/step - loss: 0.0192 - accuracy: 0.9956 - precision: 0.8358 - recall: 0.8359 - val_loss: 0.1176 - val_accuracy: 0.9867 - val_precision: 0.8800 - val_recall: 0.8800\n\nEpoch 00045: val_accuracy did not improve from 0.98667\nEpoch 46/50\n600/600 [==============================] - 32s 53ms/step - loss: 0.0314 - accuracy: 0.9897 - precision: 0.8522 - recall: 0.8564 - val_loss: 0.1437 - val_accuracy: 0.9800 - val_precision: 0.8733 - val_recall: 0.8800\n\nEpoch 00046: val_accuracy did not improve from 0.98667\nEpoch 47/50\n600/600 [==============================] - 32s 53ms/step - loss: 0.0402 - accuracy: 0.9871 - precision: 0.8479 - recall: 0.8410 - val_loss: 0.2351 - val_accuracy: 0.9800 - val_precision: 0.8733 - val_recall: 0.8800\n\nEpoch 00047: val_accuracy did not improve from 0.98667\nEpoch 48/50\n600/600 [==============================] - 32s 53ms/step - loss: 0.0150 - accuracy: 0.9971 - precision: 0.8665 - recall: 0.8654 - val_loss: 0.2715 - val_accuracy: 0.9667 - val_precision: 0.8667 - val_recall: 0.8800\n\nEpoch 00048: val_accuracy did not improve from 0.98667\nEpoch 49/50\n600/600 [==============================] - 32s 53ms/step - loss: 0.0368 - accuracy: 0.9913 - precision: 0.8794 - recall: 0.8780 - val_loss: 0.2087 - val_accuracy: 0.9800 - val_precision: 0.8733 - val_recall: 0.8800\n\nEpoch 00049: val_accuracy did not improve from 0.98667\nEpoch 50/50\n600/600 [==============================] - 32s 53ms/step - loss: 0.0194 - accuracy: 0.9984 - precision: 0.8762 - recall: 0.8749 - val_loss: 0.2289 - val_accuracy: 0.9800 - val_precision: 0.8733 - val_recall: 0.8800\n\nEpoch 00050: val_accuracy did not improve from 0.98667\n",
          "output_type": "stream"
        }
      ]
    },
    {
      "cell_type": "code",
      "metadata": {
        "execution": {
          "iopub.status.busy": "2021-09-01T18:02:19.766573Z",
          "iopub.execute_input": "2021-09-01T18:02:19.766908Z",
          "iopub.status.idle": "2021-09-01T18:02:20.641678Z",
          "shell.execute_reply.started": "2021-09-01T18:02:19.766874Z",
          "shell.execute_reply": "2021-09-01T18:02:20.640802Z"
        },
        "collapsed": true,
        "jupyter": {
          "outputs_hidden": true
        },
        "trusted": true,
        "id": "yMJa_A91Bx6E",
        "outputId": "ee8839e9-dc1b-4cfa-b91e-632de2787b15"
      },
      "source": [
        "model3 =res2unet_SepConv(lrate=8.00E-05,pretrained_weights=\"./Model_Weights3.hdf5\")\n",
        "\n",
        "\n"
      ],
      "execution_count": null,
      "outputs": [
        {
          "name": "stdout",
          "text": "8e-05\nModel: \"model_6\"\n__________________________________________________________________________________________________\nLayer (type)                    Output Shape         Param #     Connected to                     \n==================================================================================================\ninput_7 (InputLayer)            [(None, 256, 256, 3) 0                                            \n__________________________________________________________________________________________________\nconv2d_87 (Conv2D)              (None, 256, 256, 64) 1792        input_7[0][0]                    \n__________________________________________________________________________________________________\nbatch_normalization_86 (BatchNo (None, 256, 256, 64) 256         conv2d_87[0][0]                  \n__________________________________________________________________________________________________\nactivation_56 (Activation)      (None, 256, 256, 64) 0           batch_normalization_86[0][0]     \n__________________________________________________________________________________________________\nconv2d_89 (Conv2D)              (None, 256, 256, 64) 256         input_7[0][0]                    \n__________________________________________________________________________________________________\nconv2d_88 (Conv2D)              (None, 256, 256, 64) 36928       activation_56[0][0]              \n__________________________________________________________________________________________________\nbatch_normalization_87 (BatchNo (None, 256, 256, 64) 256         conv2d_89[0][0]                  \n__________________________________________________________________________________________________\nlambda_25 (Lambda)              (None, 256, 256, 64) 0           conv2d_88[0][0]                  \n__________________________________________________________________________________________________\nadd_25 (Add)                    (None, 256, 256, 64) 0           batch_normalization_87[0][0]     \n                                                                 lambda_25[0][0]                  \n__________________________________________________________________________________________________\nbatch_normalization_89 (BatchNo (None, 256, 256, 64) 256         add_25[0][0]                     \n__________________________________________________________________________________________________\nactivation_58 (Activation)      (None, 256, 256, 64) 0           batch_normalization_89[0][0]     \n__________________________________________________________________________________________________\nconv2d_91 (Conv2D)              (None, 128, 128, 128 73856       activation_58[0][0]              \n__________________________________________________________________________________________________\nbatch_normalization_90 (BatchNo (None, 128, 128, 128 512         conv2d_91[0][0]                  \n__________________________________________________________________________________________________\nconv2d_90 (Conv2D)              (None, 128, 128, 128 512         input_7[0][0]                    \n__________________________________________________________________________________________________\nactivation_59 (Activation)      (None, 128, 128, 128 0           batch_normalization_90[0][0]     \n__________________________________________________________________________________________________\nbatch_normalization_88 (BatchNo (None, 128, 128, 128 512         conv2d_90[0][0]                  \n__________________________________________________________________________________________________\nconv2d_93 (Conv2D)              (None, 128, 128, 128 8320        add_25[0][0]                     \n__________________________________________________________________________________________________\nconv2d_92 (Conv2D)              (None, 128, 128, 128 147584      activation_59[0][0]              \n__________________________________________________________________________________________________\nactivation_57 (Activation)      (None, 128, 128, 128 0           batch_normalization_88[0][0]     \n__________________________________________________________________________________________________\nbatch_normalization_91 (BatchNo (None, 128, 128, 128 512         conv2d_93[0][0]                  \n__________________________________________________________________________________________________\nlambda_26 (Lambda)              (None, 128, 128, 128 0           conv2d_92[0][0]                  \n__________________________________________________________________________________________________\ndropout_30 (Dropout)            (None, 128, 128, 128 0           activation_57[0][0]              \n__________________________________________________________________________________________________\nadd_26 (Add)                    (None, 128, 128, 128 0           batch_normalization_91[0][0]     \n                                                                 lambda_26[0][0]                  \n__________________________________________________________________________________________________\naverage_12 (Average)            (None, 128, 128, 128 0           dropout_30[0][0]                 \n                                                                 add_26[0][0]                     \n__________________________________________________________________________________________________\nbatch_normalization_92 (BatchNo (None, 128, 128, 128 512         average_12[0][0]                 \n__________________________________________________________________________________________________\nactivation_60 (Activation)      (None, 128, 128, 128 0           batch_normalization_92[0][0]     \n__________________________________________________________________________________________________\nconv2d_94 (Conv2D)              (None, 64, 64, 256)  295168      activation_60[0][0]              \n__________________________________________________________________________________________________\nbatch_normalization_93 (BatchNo (None, 64, 64, 256)  1024        conv2d_94[0][0]                  \n__________________________________________________________________________________________________\nactivation_61 (Activation)      (None, 64, 64, 256)  0           batch_normalization_93[0][0]     \n__________________________________________________________________________________________________\nconv2d_96 (Conv2D)              (None, 64, 64, 256)  33024       average_12[0][0]                 \n__________________________________________________________________________________________________\nconv2d_95 (Conv2D)              (None, 64, 64, 256)  590080      activation_61[0][0]              \n__________________________________________________________________________________________________\nbatch_normalization_94 (BatchNo (None, 64, 64, 256)  1024        conv2d_96[0][0]                  \n__________________________________________________________________________________________________\nlambda_27 (Lambda)              (None, 64, 64, 256)  0           conv2d_95[0][0]                  \n__________________________________________________________________________________________________\nadd_27 (Add)                    (None, 64, 64, 256)  0           batch_normalization_94[0][0]     \n                                                                 lambda_27[0][0]                  \n__________________________________________________________________________________________________\nbatch_normalization_96 (BatchNo (None, 64, 64, 256)  1024        add_27[0][0]                     \n__________________________________________________________________________________________________\nactivation_63 (Activation)      (None, 64, 64, 256)  0           batch_normalization_96[0][0]     \n__________________________________________________________________________________________________\nconv2d_98 (Conv2D)              (None, 32, 32, 512)  1180160     activation_63[0][0]              \n__________________________________________________________________________________________________\nbatch_normalization_97 (BatchNo (None, 32, 32, 512)  2048        conv2d_98[0][0]                  \n__________________________________________________________________________________________________\nconv2d_97 (Conv2D)              (None, 32, 32, 512)  66048       average_12[0][0]                 \n__________________________________________________________________________________________________\nactivation_64 (Activation)      (None, 32, 32, 512)  0           batch_normalization_97[0][0]     \n__________________________________________________________________________________________________\nbatch_normalization_95 (BatchNo (None, 32, 32, 512)  2048        conv2d_97[0][0]                  \n__________________________________________________________________________________________________\nconv2d_100 (Conv2D)             (None, 32, 32, 512)  131584      add_27[0][0]                     \n__________________________________________________________________________________________________\nconv2d_99 (Conv2D)              (None, 32, 32, 512)  2359808     activation_64[0][0]              \n__________________________________________________________________________________________________\nactivation_62 (Activation)      (None, 32, 32, 512)  0           batch_normalization_95[0][0]     \n__________________________________________________________________________________________________\nbatch_normalization_98 (BatchNo (None, 32, 32, 512)  2048        conv2d_100[0][0]                 \n__________________________________________________________________________________________________\nlambda_28 (Lambda)              (None, 32, 32, 512)  0           conv2d_99[0][0]                  \n__________________________________________________________________________________________________\ndropout_31 (Dropout)            (None, 32, 32, 512)  0           activation_62[0][0]              \n__________________________________________________________________________________________________\nadd_28 (Add)                    (None, 32, 32, 512)  0           batch_normalization_98[0][0]     \n                                                                 lambda_28[0][0]                  \n__________________________________________________________________________________________________\naverage_13 (Average)            (None, 32, 32, 512)  0           dropout_31[0][0]                 \n                                                                 add_28[0][0]                     \n__________________________________________________________________________________________________\nseparable_conv2d_10 (SeparableC (None, 32, 32, 512)  267264      average_13[0][0]                 \n__________________________________________________________________________________________________\nseparable_conv2d_11 (SeparableC (None, 32, 32, 512)  267264      separable_conv2d_10[0][0]        \n__________________________________________________________________________________________________\nbatch_normalization_99 (BatchNo (None, 32, 32, 512)  2048        separable_conv2d_11[0][0]        \n__________________________________________________________________________________________________\nmax_pooling2d_5 (MaxPooling2D)  (None, 16, 16, 512)  0           batch_normalization_99[0][0]     \n__________________________________________________________________________________________________\nflatten_6 (Flatten)             (None, 131072)       0           max_pooling2d_5[0][0]            \n__________________________________________________________________________________________________\ndense_24 (Dense)                (None, 512)          67109376    flatten_6[0][0]                  \n__________________________________________________________________________________________________\ndropout_32 (Dropout)            (None, 512)          0           dense_24[0][0]                   \n__________________________________________________________________________________________________\ndense_25 (Dense)                (None, 128)          65664       dropout_32[0][0]                 \n__________________________________________________________________________________________________\ndropout_33 (Dropout)            (None, 128)          0           dense_25[0][0]                   \n__________________________________________________________________________________________________\ndense_26 (Dense)                (None, 64)           8256        dropout_33[0][0]                 \n__________________________________________________________________________________________________\ndropout_34 (Dropout)            (None, 64)           0           dense_26[0][0]                   \n__________________________________________________________________________________________________\ndense_27 (Dense)                (None, 1)            65          dropout_34[0][0]                 \n==================================================================================================\nTotal params: 72,657,089\nTrainable params: 72,650,049\nNon-trainable params: 7,040\n__________________________________________________________________________________________________\n",
          "output_type": "stream"
        }
      ]
    },
    {
      "cell_type": "markdown",
      "metadata": {
        "id": "2-4GPO2JBx6F"
      },
      "source": [
        "## Accuracy Of Model 3"
      ]
    },
    {
      "cell_type": "code",
      "metadata": {
        "execution": {
          "iopub.status.busy": "2021-09-01T18:01:46.678697Z",
          "iopub.execute_input": "2021-09-01T18:01:46.679129Z",
          "iopub.status.idle": "2021-09-01T18:01:54.903563Z",
          "shell.execute_reply.started": "2021-09-01T18:01:46.679087Z",
          "shell.execute_reply": "2021-09-01T18:01:54.902769Z"
        },
        "trusted": true,
        "id": "R7pu7KFlBx6F",
        "outputId": "1954f57d-a817-48ef-c71c-7c970b1a7b38"
      },
      "source": [
        "\n",
        "print(\"Train_Accuracy\" )\n",
        "train_results = model3.evaluate(train_images, train_labels)\n",
        "\n",
        "print(\"Val_Accuracy\" )\n",
        "val_results = model3.evaluate(val_images, val_labels)\n",
        "\n",
        "print(\"Test_Accuracy\" )\n",
        "test_results = model3.evaluate(test_images, test_labels)\n",
        "\n"
      ],
      "execution_count": null,
      "outputs": [
        {
          "name": "stdout",
          "text": "Train_Accuracy\n38/38 [==============================] - 6s 150ms/step - loss: 0.0140 - accuracy: 0.9992 - precision: 0.9986 - recall: 1.0000\nVal_Accuracy\n5/5 [==============================] - 1s 138ms/step - loss: 0.0899 - accuracy: 0.9867 - precision: 0.9821 - recall: 1.0000\nTest_Accuracy\n5/5 [==============================] - 1s 140ms/step - loss: 0.1957 - accuracy: 0.9800 - precision: 0.9761 - recall: 0.9895\n",
          "output_type": "stream"
        }
      ]
    },
    {
      "cell_type": "markdown",
      "metadata": {
        "id": "0MKONKEqBx6F"
      },
      "source": [
        "### Predication of Model 3"
      ]
    },
    {
      "cell_type": "code",
      "metadata": {
        "execution": {
          "iopub.status.busy": "2021-09-01T18:02:53.993917Z",
          "iopub.execute_input": "2021-09-01T18:02:53.994241Z",
          "iopub.status.idle": "2021-09-01T18:02:55.065740Z",
          "shell.execute_reply.started": "2021-09-01T18:02:53.994212Z",
          "shell.execute_reply": "2021-09-01T18:02:55.064953Z"
        },
        "trusted": true,
        "id": "WoIOlf85Bx6F",
        "outputId": "212ce781-09a4-484f-eb6e-1a87ca29b695"
      },
      "source": [
        "model3_pred = model3.predict(test_images)\n",
        "pred = [1 if x > 0.5 else 0 for x in list(model3_pred[: , 0])]\n",
        "model3_pred = np.array(pred)\n",
        "model3_pred\n"
      ],
      "execution_count": null,
      "outputs": [
        {
          "execution_count": 45,
          "output_type": "execute_result",
          "data": {
            "text/plain": "array([1, 1, 1, 1, 0, 0, 1, 0, 1, 1, 1, 0, 1, 0, 0, 0, 1, 1, 0, 1, 1, 1,\n       0, 1, 0, 1, 0, 1, 1, 1, 0, 1, 0, 1, 0, 0, 0, 0, 0, 1, 1, 0, 1, 1,\n       1, 1, 0, 0, 0, 1, 0, 0, 1, 0, 1, 1, 1, 0, 1, 0, 0, 1, 1, 0, 0, 1,\n       0, 1, 1, 1, 0, 1, 1, 1, 1, 0, 1, 0, 0, 1, 1, 1, 0, 0, 1, 0, 0, 0,\n       1, 1, 1, 1, 1, 1, 0, 0, 1, 1, 0, 1, 0, 0, 0, 0, 1, 1, 1, 1, 1, 1,\n       0, 1, 1, 0, 1, 0, 0, 0, 1, 1, 1, 1, 0, 1, 1, 0, 0, 0, 1, 0, 0, 0,\n       0, 1, 0, 1, 1, 1, 1, 0, 1, 1, 1, 0, 1, 0, 1, 1, 1, 1])"
          },
          "metadata": {}
        }
      ]
    },
    {
      "cell_type": "code",
      "metadata": {
        "execution": {
          "iopub.status.busy": "2021-09-01T17:32:33.760632Z",
          "iopub.execute_input": "2021-09-01T17:32:33.760980Z",
          "iopub.status.idle": "2021-09-01T17:32:33.768115Z",
          "shell.execute_reply.started": "2021-09-01T17:32:33.760948Z",
          "shell.execute_reply": "2021-09-01T17:32:33.767130Z"
        },
        "trusted": true,
        "id": "jNxODswnBx6G",
        "outputId": "c92abd42-a41d-4a23-dc1b-0227be0249ee"
      },
      "source": [
        "test_labels"
      ],
      "execution_count": null,
      "outputs": [
        {
          "execution_count": 24,
          "output_type": "execute_result",
          "data": {
            "text/plain": "array([1, 1, 1, 1, 0, 0, 1, 0, 1, 1, 1, 0, 1, 0, 0, 0, 1, 1, 0, 1, 1, 1,\n       0, 1, 0, 1, 0, 1, 1, 1, 0, 1, 0, 1, 0, 0, 0, 0, 0, 1, 1, 0, 1, 0,\n       1, 1, 0, 0, 0, 1, 0, 0, 1, 0, 1, 1, 1, 0, 1, 0, 0, 1, 1, 0, 0, 1,\n       0, 1, 1, 1, 0, 1, 0, 1, 1, 0, 1, 0, 0, 1, 1, 1, 0, 0, 1, 0, 0, 0,\n       1, 1, 1, 1, 1, 1, 0, 0, 1, 1, 0, 1, 0, 0, 0, 0, 1, 1, 1, 1, 1, 1,\n       0, 1, 1, 0, 1, 0, 0, 0, 1, 1, 1, 1, 0, 1, 1, 0, 1, 0, 1, 0, 0, 0,\n       0, 1, 0, 1, 1, 1, 1, 0, 1, 1, 1, 0, 1, 0, 1, 1, 1, 1], dtype=int32)"
          },
          "metadata": {}
        }
      ]
    },
    {
      "cell_type": "code",
      "metadata": {
        "execution": {
          "iopub.status.busy": "2021-09-01T18:03:16.503181Z",
          "iopub.execute_input": "2021-09-01T18:03:16.503505Z",
          "iopub.status.idle": "2021-09-01T18:03:16.733444Z",
          "shell.execute_reply.started": "2021-09-01T18:03:16.503475Z",
          "shell.execute_reply": "2021-09-01T18:03:16.732647Z"
        },
        "trusted": true,
        "id": "1-xpGdtmBx6G",
        "outputId": "e1d17704-5cfa-4fd5-92a5-0f7a3c875265"
      },
      "source": [
        "cm = confusion_matrix(model3_pred, test_labels)\n",
        "#print(cm)\n",
        "sns.heatmap(cm, annot=True)"
      ],
      "execution_count": null,
      "outputs": [
        {
          "execution_count": 46,
          "output_type": "execute_result",
          "data": {
            "text/plain": "<AxesSubplot:>"
          },
          "metadata": {}
        },
        {
          "output_type": "display_data",
          "data": {
            "text/plain": "<Figure size 432x288 with 2 Axes>",
            "image/png": "[encoded data removed]"
          },
          "metadata": {
            "needs_background": "light"
          }
        }
      ]
    },
    {
      "cell_type": "code",
      "metadata": {
        "execution": {
          "iopub.status.busy": "2021-09-01T17:42:21.616134Z",
          "iopub.execute_input": "2021-09-01T17:42:21.616476Z",
          "iopub.status.idle": "2021-09-01T17:42:21.753855Z",
          "shell.execute_reply.started": "2021-09-01T17:42:21.616445Z",
          "shell.execute_reply": "2021-09-01T17:42:21.752926Z"
        },
        "trusted": true,
        "id": "oHAfoWSgBx6G",
        "outputId": "2689596d-8a51-47a3-a4cb-2697418b9182"
      },
      "source": [
        "loss = history3.history['loss']\n",
        "val_loss = history3.history['val_loss']\n",
        "epochs = range(1, len(loss) + 1)\n",
        "plt.plot(epochs, loss, 'y', label='Training loss')\n",
        "plt.plot(epochs, val_loss, 'r', label='Validation loss')\n",
        "plt.title('Training and validation loss')\n",
        "plt.xlabel('Epochs')\n",
        "plt.ylabel('Loss')\n",
        "plt.legend()\n",
        "plt.show()\n",
        "\n",
        "\n"
      ],
      "execution_count": null,
      "outputs": [
        {
          "output_type": "display_data",
          "data": {
            "text/plain": "<Figure size 432x288 with 1 Axes>",
            "image/png": "[encoded data removed]"
          },
          "metadata": {
            "needs_background": "light"
          }
        }
      ]
    },
    {
      "cell_type": "code",
      "metadata": {
        "execution": {
          "iopub.status.busy": "2021-09-01T17:42:31.830521Z",
          "iopub.execute_input": "2021-09-01T17:42:31.830884Z",
          "iopub.status.idle": "2021-09-01T17:42:31.976906Z",
          "shell.execute_reply.started": "2021-09-01T17:42:31.830850Z",
          "shell.execute_reply": "2021-09-01T17:42:31.975891Z"
        },
        "trusted": true,
        "id": "3cOYZg9cBx6H",
        "outputId": "cd0c2165-9ac0-4b17-8392-e2dc2b529eff"
      },
      "source": [
        "acc = history3.history['accuracy']\n",
        "val_acc = history3.history['val_accuracy']\n",
        "plt.plot(epochs, acc, 'y', label='Training acc')\n",
        "plt.plot(epochs, val_acc, 'r', label='Validation acc')\n",
        "plt.title('Training and validation accuracy')\n",
        "plt.xlabel('Epochs')\n",
        "plt.ylabel('Accuracy')\n",
        "plt.legend()\n",
        "plt.show()"
      ],
      "execution_count": null,
      "outputs": [
        {
          "output_type": "display_data",
          "data": {
            "text/plain": "<Figure size 432x288 with 1 Axes>",
            "image/png": "[encoded data removed]"
          },
          "metadata": {
            "needs_background": "light"
          }
        }
      ]
    }
  ]
}