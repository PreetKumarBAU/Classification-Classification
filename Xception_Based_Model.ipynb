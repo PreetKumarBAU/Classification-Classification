{
  "nbformat": 4,
  "nbformat_minor": 0,
  "metadata": {
    "kernelspec": {
      "language": "python",
      "display_name": "Python 3",
      "name": "python3"
    },
    "language_info": {
      "name": "python",
      "version": "3.7.10",
      "mimetype": "text/x-python",
      "codemirror_mode": {
        "name": "ipython",
        "version": 3
      },
      "pygments_lexer": "ipython3",
      "nbconvert_exporter": "python",
      "file_extension": ".py"
    },
    "colab": {
      "name": "Xception Based Model.ipynb",
      "provenance": []
    }
  },
  "cells": [
    {
      "cell_type": "code",
      "metadata": {
        "id": "6IqO0KErYgZz"
      },
      "source": [
        ""
      ],
      "execution_count": null,
      "outputs": []
    },
    {
      "cell_type": "code",
      "metadata": {
        "id": "Rfq-4ICSYXOD",
        "execution": {
          "iopub.status.busy": "2021-09-02T16:22:11.993292Z",
          "iopub.execute_input": "2021-09-02T16:22:11.993627Z",
          "iopub.status.idle": "2021-09-02T16:22:11.998339Z",
          "shell.execute_reply.started": "2021-09-02T16:22:11.993598Z",
          "shell.execute_reply": "2021-09-02T16:22:11.997391Z"
        },
        "trusted": true
      },
      "source": [
        "# import libraries\n",
        "import numpy as np\n",
        "import cv2\n",
        "import matplotlib.pyplot as plt\n",
        "from tqdm import tqdm\n",
        "import os\n",
        "from keras.regularizers import l2\n",
        "from datetime import datetime \n",
        "\n",
        "\n",
        "# extract folder of chages disease images and non chagas disease images\n",
        "## We should have two folders ( Chagas and Non-Chagas )\n",
        "#!unzip \"/content/drive/MyDrive/ChagasTest.zip\"\n",
        "\n",
        "#!unzip \"/content/drive/MyDrive/ChagasValidation.zip\""
      ],
      "execution_count": null,
      "outputs": []
    },
    {
      "cell_type": "code",
      "metadata": {
        "id": "t4otd9I_WsKN",
        "execution": {
          "iopub.status.busy": "2021-09-02T16:22:12.184908Z",
          "iopub.execute_input": "2021-09-02T16:22:12.185279Z",
          "iopub.status.idle": "2021-09-02T16:22:12.189149Z",
          "shell.execute_reply.started": "2021-09-02T16:22:12.185248Z",
          "shell.execute_reply": "2021-09-02T16:22:12.188065Z"
        },
        "trusted": true
      },
      "source": [
        "#!unzip \"/content/drive/MyDrive/Non-ChagasData_Selected.zip\""
      ],
      "execution_count": null,
      "outputs": []
    },
    {
      "cell_type": "code",
      "metadata": {
        "id": "CqHVkM_yNWeu",
        "execution": {
          "iopub.status.busy": "2021-09-02T16:22:12.217424Z",
          "iopub.execute_input": "2021-09-02T16:22:12.217703Z",
          "iopub.status.idle": "2021-09-02T16:22:12.222946Z",
          "shell.execute_reply.started": "2021-09-02T16:22:12.217679Z",
          "shell.execute_reply": "2021-09-02T16:22:12.222148Z"
        },
        "trusted": true
      },
      "source": [
        "#!unzip \"/content/drive/MyDrive/ChagasTraining.zip\"\n"
      ],
      "execution_count": null,
      "outputs": []
    },
    {
      "cell_type": "code",
      "metadata": {
        "id": "BzusLIkPWzLc"
      },
      "source": [
        ""
      ],
      "execution_count": null,
      "outputs": []
    },
    {
      "cell_type": "code",
      "metadata": {
        "id": "upUkOo6AtFGB",
        "execution": {
          "iopub.status.busy": "2021-09-02T16:22:12.256290Z",
          "iopub.execute_input": "2021-09-02T16:22:12.256594Z",
          "iopub.status.idle": "2021-09-02T16:22:12.264061Z",
          "shell.execute_reply.started": "2021-09-02T16:22:12.256566Z",
          "shell.execute_reply": "2021-09-02T16:22:12.262966Z"
        },
        "trusted": true
      },
      "source": [
        "import os \n",
        "import seaborn as sns\n",
        "from keras.applications.vgg16 import VGG16\n",
        "training_dir =  \"../input/training/training\"\n",
        "test_dir =      \"../input/testdata/Test\"\n",
        "validation_dir= \"../input/validation/Validation\"\n",
        "\n",
        "training_dir_images = os.path.join(training_dir , \"images\")\n",
        "test_dir_images = os.path.join(test_dir , \"images\")\n",
        "validation_dir_images = os.path.join(validation_dir , \"images\")\n",
        "\n",
        "\n",
        "Training_Non_ChagasFiles = [ \"i_0450,i_0389,i_0392 ,i_0395 , i_0440 ,i_0429 , i_0406 , i_0398 , i_0369 , i_0374, i_0348, i_0339,  i_0337 , i_0389 ,i_0334, i_0324 ,i_0279, i_0280, i_0281 , i_0263 , i_0264 , i_0254 , i_0253 , i_0245 , i_0240 , i_0238 , i_0235 , i_0226 , i_0201, i_0184, i_0156, i_0150, i_0148 , i_0152 , i_0099 , i_0018 , i_0001\" ]\n",
        "\n",
        "\n",
        "Validation_Non_ChagasFiles = [\"i842 , i806 , i_0583, i_0559 , i_0528 , i_0529 , i_0583 , i_0559 , i_0528 , i_0529 , i_0481, i_0394 , i_0183 , i_0078 , i_0042 , i_0022\" ]\n",
        "\n",
        "\n",
        "Test_Non_ChagasFiles = [\"i_0579 , i_0579d , i_0050dd , i_0046d , i_0046dd , i_0047dd , i_0047d , i_0048d , i_0048dd ,i_0049d , i_0049dd , i_0050d , i_0050dd\" ]\n",
        "\n",
        "Non_chagas_files_names = []\n",
        "\n",
        "Non_chagas_files_names.extend(Training_Non_ChagasFiles)\n",
        "Non_chagas_files_names.extend(Validation_Non_ChagasFiles)\n",
        "Non_chagas_files_names.extend(Test_Non_ChagasFiles)\n",
        "\n",
        "NC = []\n",
        "for string in Non_chagas_files_names:\n",
        "  \n",
        "  NC.extend(string.split(\",\"))\n",
        "\n",
        "Non_Chagas_Files = []\n",
        "for values in NC:\n",
        "  Non_Chagas_Files.append(values.strip())\n",
        "\n",
        "\n"
      ],
      "execution_count": null,
      "outputs": []
    },
    {
      "cell_type": "code",
      "metadata": {
        "id": "jy9B1OqiyGEm",
        "execution": {
          "iopub.status.busy": "2021-09-02T16:22:12.289606Z",
          "iopub.execute_input": "2021-09-02T16:22:12.289870Z",
          "iopub.status.idle": "2021-09-02T16:22:12.295010Z",
          "shell.execute_reply.started": "2021-09-02T16:22:12.289845Z",
          "shell.execute_reply": "2021-09-02T16:22:12.294057Z"
        },
        "trusted": true,
        "outputId": "9991153c-b5ed-40ad-8b25-4289f2cbf0c7"
      },
      "source": [
        "training_dir_images"
      ],
      "execution_count": null,
      "outputs": [
        {
          "execution_count": 13,
          "output_type": "execute_result",
          "data": {
            "text/plain": "'../input/training/training/images'"
          },
          "metadata": {}
        }
      ]
    },
    {
      "cell_type": "code",
      "metadata": {
        "id": "id_iHL0RyNf9",
        "execution": {
          "iopub.status.busy": "2021-09-02T16:22:12.384810Z",
          "iopub.execute_input": "2021-09-02T16:22:12.385133Z",
          "iopub.status.idle": "2021-09-02T16:22:24.589618Z",
          "shell.execute_reply.started": "2021-09-02T16:22:12.385082Z",
          "shell.execute_reply": "2021-09-02T16:22:24.588780Z"
        },
        "trusted": true
      },
      "source": [
        "import cv2\n",
        "from skimage import io\n",
        "\n",
        "\n",
        "###Extract the Each Image and Label them as 0 or 1  ( label the chagas images as 1 and non chagas as 0)\n",
        "# we can have seperate list(or any array) for each of them[images and their corresponding labels ] ( one containing the arrays representing Each Image and another containing values/labels )\n",
        "\n",
        "labels = []\n",
        "images = []\n",
        "file_name= []\n",
        "for file in os.listdir(training_dir_images):\n",
        "  if file.endswith(\".png\"):\n",
        "      \n",
        "    file_name.append(file.split(\".\")[0])\n",
        "    if file.split(\".\")[0] in Non_Chagas_Files:\n",
        "      labels.append(0)\n",
        "      \n",
        "      images.append(cv2.resize(cv2.imread(os.path.join(training_dir_images , file)), (256, 256)))\n",
        "      \n",
        "    else:\n",
        "      labels.append(1)\n",
        "      images.append(cv2.resize(cv2.imread(os.path.join(training_dir_images , file)), (256, 256)))\n",
        "\n",
        "  else:\n",
        "    pass\n",
        "\n",
        "for file in os.listdir(test_dir_images):\n",
        "  if file.endswith(\".png\"):\n",
        "\n",
        "\n",
        "    file_name.append(file.split(\".\")[0])\n",
        "    if file.split(\".\")[0] in Non_Chagas_Files:\n",
        "      labels.append(0)\n",
        "      images.append(cv2.resize(cv2.imread(os.path.join(test_dir_images , file)), (256, 256)))\n",
        "      \n",
        "    else:\n",
        "      labels.append(1)\n",
        "      images.append(cv2.resize(cv2.imread(os.path.join(test_dir_images , file)), (256, 256)))\n",
        "  \n",
        "  else:\n",
        "    pass\n",
        "\n",
        "\n",
        "for file in os.listdir(validation_dir_images):\n",
        "  if file.endswith(\".png\"):\n",
        "    \n",
        "\n",
        "    file_name.append(file.split(\".\")[0])\n",
        "    if file.split(\".\")[0] in Non_Chagas_Files:\n",
        "      labels.append(0)\n",
        "      images.append(cv2.resize(cv2.imread(os.path.join(validation_dir_images , file)), (256, 256)))\n",
        "    else:\n",
        "      labels.append(1)\n",
        "      images.append(cv2.resize(cv2.imread(os.path.join(validation_dir_images , file)), (256, 256)))\n",
        "  else:\n",
        "    pass\n",
        "# Where X is Array containing Arrays( representing Images)\n",
        "# Where Y is Array containing Labels(values as 0 and 1 ) ( representing labels for each Image)\n",
        "\n"
      ],
      "execution_count": null,
      "outputs": []
    },
    {
      "cell_type": "code",
      "metadata": {
        "id": "LoFI2Aea9M7j",
        "execution": {
          "iopub.status.busy": "2021-09-02T16:22:24.592063Z",
          "iopub.execute_input": "2021-09-02T16:22:24.592686Z",
          "iopub.status.idle": "2021-09-02T16:22:24.600575Z",
          "shell.execute_reply.started": "2021-09-02T16:22:24.592648Z",
          "shell.execute_reply": "2021-09-02T16:22:24.599794Z"
        },
        "trusted": true,
        "outputId": "508c67d7-250f-41a4-d7bc-a82f79310f6b"
      },
      "source": [
        "import numpy as np\n",
        "filename_to_label_dict = dict(zip(file_name , labels))\n",
        "from collections import Counter\n",
        "Counter(filename_to_label_dict.values() )"
      ],
      "execution_count": null,
      "outputs": [
        {
          "execution_count": 15,
          "output_type": "execute_result",
          "data": {
            "text/plain": "Counter({1: 918, 0: 60})"
          },
          "metadata": {}
        }
      ]
    },
    {
      "cell_type": "code",
      "metadata": {
        "id": "Gr5iUwxIUGuy",
        "execution": {
          "iopub.status.busy": "2021-09-02T16:22:24.603889Z",
          "iopub.execute_input": "2021-09-02T16:22:24.604157Z",
          "iopub.status.idle": "2021-09-02T16:22:28.522191Z",
          "shell.execute_reply.started": "2021-09-02T16:22:24.604122Z",
          "shell.execute_reply": "2021-09-02T16:22:28.521345Z"
        },
        "trusted": true
      },
      "source": [
        "for file_path in os.listdir(\"../input/non-chagas-data/Non-ChagasData_Selected\"):\n",
        "  if file_path.endswith(\".png\"):\n",
        "    labels.append(0)\n",
        "      \n",
        "    images.append(cv2.resize(cv2.imread(os.path.join(\"../input/non-chagas-data/Non-ChagasData_Selected\" , file_path)), (256, 256)))"
      ],
      "execution_count": null,
      "outputs": []
    },
    {
      "cell_type": "code",
      "metadata": {
        "id": "1BDcUpryZfjV",
        "execution": {
          "iopub.status.busy": "2021-09-02T16:22:28.523595Z",
          "iopub.execute_input": "2021-09-02T16:22:28.523911Z",
          "iopub.status.idle": "2021-09-02T16:22:28.534392Z",
          "shell.execute_reply.started": "2021-09-02T16:22:28.523877Z",
          "shell.execute_reply": "2021-09-02T16:22:28.533403Z"
        },
        "trusted": true,
        "outputId": "941d611b-4b45-4658-9b56-18628daceba3"
      },
      "source": [
        "import numpy as np\n",
        "np.unique(np.array(labels) ,return_counts = True )"
      ],
      "execution_count": null,
      "outputs": [
        {
          "execution_count": 17,
          "output_type": "execute_result",
          "data": {
            "text/plain": "(array([0, 1]), array([559, 940]))"
          },
          "metadata": {}
        }
      ]
    },
    {
      "cell_type": "code",
      "metadata": {
        "id": "u6kQpBEuFRkl",
        "execution": {
          "iopub.status.busy": "2021-09-02T16:22:28.535940Z",
          "iopub.execute_input": "2021-09-02T16:22:28.536426Z",
          "iopub.status.idle": "2021-09-02T16:22:28.541610Z",
          "shell.execute_reply.started": "2021-09-02T16:22:28.536310Z",
          "shell.execute_reply": "2021-09-02T16:22:28.540681Z"
        },
        "trusted": true
      },
      "source": [
        "#imagess = []\n",
        "#for imagesss in images:\n",
        "#  imagess.append(cv2.resize(imagesss , (256 , 256 )))"
      ],
      "execution_count": null,
      "outputs": []
    },
    {
      "cell_type": "code",
      "metadata": {
        "id": "0uLnafPI5TRB",
        "execution": {
          "iopub.status.busy": "2021-09-02T16:22:28.542913Z",
          "iopub.execute_input": "2021-09-02T16:22:28.543273Z",
          "iopub.status.idle": "2021-09-02T16:22:28.843403Z",
          "shell.execute_reply.started": "2021-09-02T16:22:28.543240Z",
          "shell.execute_reply": "2021-09-02T16:22:28.842536Z"
        },
        "trusted": true,
        "outputId": "e41faa62-08bb-4b14-eb10-af660ebcd0d5"
      },
      "source": [
        "\n",
        "# Split the Images and labels into Train , Test and Validation Data\n",
        "print(type(images))\n",
        "images = np.array(images , dtype = \"float32\")\n",
        "labels = np.array(labels, dtype = 'int32')\n",
        "print(type(images))\n"
      ],
      "execution_count": null,
      "outputs": [
        {
          "name": "stdout",
          "text": "<class 'list'>\n<class 'numpy.ndarray'>\n",
          "output_type": "stream"
        }
      ]
    },
    {
      "cell_type": "code",
      "metadata": {
        "id": "3UvBwwC-89TG",
        "execution": {
          "iopub.status.busy": "2021-09-02T16:22:28.844628Z",
          "iopub.execute_input": "2021-09-02T16:22:28.845145Z",
          "iopub.status.idle": "2021-09-02T16:22:28.850606Z",
          "shell.execute_reply.started": "2021-09-02T16:22:28.845091Z",
          "shell.execute_reply": "2021-09-02T16:22:28.849743Z"
        },
        "trusted": true,
        "outputId": "ef48c311-7773-4cca-d160-e9120c9d93f7"
      },
      "source": [
        "print(images.shape[0])\n",
        "print(labels.shape[0])\n"
      ],
      "execution_count": null,
      "outputs": [
        {
          "name": "stdout",
          "text": "1499\n1499\n",
          "output_type": "stream"
        }
      ]
    },
    {
      "cell_type": "code",
      "metadata": {
        "id": "PIRLlkKV9GpG",
        "execution": {
          "iopub.status.busy": "2021-09-02T16:22:28.853265Z",
          "iopub.execute_input": "2021-09-02T16:22:28.853859Z",
          "iopub.status.idle": "2021-09-02T16:22:28.859913Z",
          "shell.execute_reply.started": "2021-09-02T16:22:28.853822Z",
          "shell.execute_reply": "2021-09-02T16:22:28.859090Z"
        },
        "trusted": true
      },
      "source": [
        "\n",
        "#n = np.arange(images.shape[0])\n",
        "#np.random.shuffle(n)\n",
        "#images = images[n]\n",
        "#labels = labels[n]\n"
      ],
      "execution_count": null,
      "outputs": []
    },
    {
      "cell_type": "code",
      "metadata": {
        "id": "j5b2hNue_n8l",
        "execution": {
          "iopub.status.busy": "2021-09-02T16:22:28.862723Z",
          "iopub.execute_input": "2021-09-02T16:22:28.863822Z",
          "iopub.status.idle": "2021-09-02T16:22:29.414752Z",
          "shell.execute_reply.started": "2021-09-02T16:22:28.863796Z",
          "shell.execute_reply": "2021-09-02T16:22:29.413927Z"
        },
        "trusted": true
      },
      "source": [
        "import random\n",
        "\n",
        "# Shuffle\n",
        "from sklearn.utils import shuffle\n",
        "#images, labels = shuffle(images, labels, random_state=10)\n",
        "from sklearn.model_selection import train_test_split\n",
        "from sklearn.metrics import accuracy_score, confusion_matrix\n",
        "\n",
        "train_images, test_images, train_labels, test_labels = train_test_split(images, labels, test_size = 0.2 , random_state=10)\n",
        "test_images, val_images, test_labels, val_labels = train_test_split(test_images, test_labels, test_size = 0.5 , random_state=10)\n",
        "\n"
      ],
      "execution_count": null,
      "outputs": []
    },
    {
      "cell_type": "code",
      "metadata": {
        "id": "7ZABYMcVIIxF",
        "execution": {
          "iopub.status.busy": "2021-09-02T16:22:29.416407Z",
          "iopub.execute_input": "2021-09-02T16:22:29.416831Z",
          "iopub.status.idle": "2021-09-02T16:22:29.424473Z",
          "shell.execute_reply.started": "2021-09-02T16:22:29.416794Z",
          "shell.execute_reply": "2021-09-02T16:22:29.423547Z"
        },
        "trusted": true,
        "outputId": "118e29fa-6e81-4704-ce1c-14c2bc939b66"
      },
      "source": [
        "test_labels"
      ],
      "execution_count": null,
      "outputs": [
        {
          "execution_count": 23,
          "output_type": "execute_result",
          "data": {
            "text/plain": "array([1, 1, 1, 1, 0, 0, 1, 0, 1, 1, 1, 0, 1, 0, 0, 0, 1, 1, 0, 1, 1, 1,\n       0, 1, 0, 1, 0, 1, 1, 1, 0, 1, 0, 1, 0, 0, 0, 0, 0, 1, 1, 0, 1, 0,\n       1, 1, 0, 0, 0, 1, 0, 0, 1, 0, 1, 1, 1, 0, 1, 0, 0, 1, 1, 0, 0, 1,\n       0, 1, 1, 1, 0, 1, 0, 1, 1, 0, 1, 0, 0, 1, 1, 1, 0, 0, 1, 0, 0, 0,\n       1, 1, 1, 1, 1, 1, 0, 0, 1, 1, 0, 1, 0, 0, 0, 0, 1, 1, 1, 1, 1, 1,\n       0, 1, 1, 0, 1, 0, 0, 0, 1, 1, 1, 1, 0, 1, 1, 0, 1, 0, 1, 0, 0, 0,\n       0, 1, 0, 1, 1, 1, 1, 0, 1, 1, 1, 0, 1, 0, 1, 1, 1, 1], dtype=int32)"
          },
          "metadata": {}
        }
      ]
    },
    {
      "cell_type": "code",
      "metadata": {
        "id": "wNEEJfV3BJeF",
        "execution": {
          "iopub.status.busy": "2021-09-02T16:22:29.425905Z",
          "iopub.execute_input": "2021-09-02T16:22:29.426260Z",
          "iopub.status.idle": "2021-09-02T16:22:29.437380Z",
          "shell.execute_reply.started": "2021-09-02T16:22:29.426225Z",
          "shell.execute_reply": "2021-09-02T16:22:29.436184Z"
        },
        "trusted": true,
        "outputId": "f75bf0b8-481b-498c-bafb-e87a08f3403d"
      },
      "source": [
        "n_train = train_labels.shape[0]\n",
        "n_val = val_labels.shape[0]\n",
        "n_test = test_labels.shape[0]\n",
        "\n",
        "print(\"Number of training examples: {}\".format(n_train))\n",
        "print(\"Number of validation examples: {}\".format(n_val))\n",
        "print(\"Number of testing examples: {}\".format(n_test))\n",
        "\n",
        "print(\"Training images are of shape: {}\".format(train_images.shape))\n",
        "print(\"Training labels are of shape: {}\".format(train_labels.shape))\n",
        "print(\"Validation images are of shape: {}\".format(val_images.shape))\n",
        "print(\"Validation labels are of shape: {}\".format(val_labels.shape))\n",
        "print(\"Test images are of shape: {}\".format(test_images.shape))\n",
        "print(\"Test labels are of shape: {}\".format(test_labels.shape))"
      ],
      "execution_count": null,
      "outputs": [
        {
          "name": "stdout",
          "text": "Number of training examples: 1199\nNumber of validation examples: 150\nNumber of testing examples: 150\nTraining images are of shape: (1199, 256, 256, 3)\nTraining labels are of shape: (1199,)\nValidation images are of shape: (150, 256, 256, 3)\nValidation labels are of shape: (150,)\nTest images are of shape: (150, 256, 256, 3)\nTest labels are of shape: (150,)\n",
          "output_type": "stream"
        }
      ]
    },
    {
      "cell_type": "code",
      "metadata": {
        "id": "3DsBcyImBQE3",
        "execution": {
          "iopub.status.busy": "2021-09-02T16:22:29.438876Z",
          "iopub.execute_input": "2021-09-02T16:22:29.439281Z",
          "iopub.status.idle": "2021-09-02T16:22:29.797957Z",
          "shell.execute_reply.started": "2021-09-02T16:22:29.439194Z",
          "shell.execute_reply": "2021-09-02T16:22:29.797139Z"
        },
        "trusted": true
      },
      "source": [
        "train_images = train_images / 255.0 \n",
        "val_images = val_images / 255.0\n",
        "test_images = test_images / 255.0"
      ],
      "execution_count": null,
      "outputs": []
    },
    {
      "cell_type": "code",
      "metadata": {
        "id": "xX4grPtaDNzG",
        "execution": {
          "iopub.status.busy": "2021-09-02T16:22:29.799205Z",
          "iopub.execute_input": "2021-09-02T16:22:29.799530Z",
          "iopub.status.idle": "2021-09-02T16:22:29.810851Z",
          "shell.execute_reply.started": "2021-09-02T16:22:29.799498Z",
          "shell.execute_reply": "2021-09-02T16:22:29.810093Z"
        },
        "trusted": true
      },
      "source": [
        "from __future__ import print_function\n",
        "from keras.preprocessing.image import ImageDataGenerator, img_to_array, load_img\n",
        "from keras.layers import Conv2D, MaxPooling2D, UpSampling2D, BatchNormalization, Reshape, Permute, Activation, Input, \\\n",
        "    add, multiply ,  Dense, Conv2D, Activation, Flatten\n",
        "from keras.layers import concatenate, core, Dropout\n",
        "from tensorflow.keras.models import Model\n",
        "from tensorflow.keras.optimizers import Adam\n",
        "from tensorflow.keras.optimizers import SGD\n",
        "from keras.layers.core import Lambda\n",
        "#import keras.backend as K\n",
        "from keras.layers import Input, Conv2D, UpSampling2D, BatchNormalization, Activation, add,average,concatenate , Conv2DTranspose\n",
        "from keras.layers.core import Lambda\n",
        "from keras.optimizers import Adam\n",
        "from keras.losses import binary_crossentropy\n",
        "#%tensorflow_version 1.x\n",
        "from keras.callbacks import TensorBoard\n",
        "from keras.callbacks import CSVLogger\n",
        "from glob import glob\n",
        "from sklearn.model_selection import train_test_split\n",
        "\n",
        "\n",
        "import keras\n",
        "import tensorflow as tf\n",
        "#import keras.backend.tensorflow_backend as K\n",
        "import keras.backend as K\n",
        "import matplotlib.pyplot as plt\n",
        "\n",
        "import tensorflow as tf\n",
        "import cv2\n",
        "\n",
        "\n",
        "import numpy as np\n",
        "\n"
      ],
      "execution_count": null,
      "outputs": []
    },
    {
      "cell_type": "code",
      "metadata": {
        "id": "xpg3ex-MIIxJ",
        "execution": {
          "iopub.status.busy": "2021-09-02T16:22:29.812243Z",
          "iopub.execute_input": "2021-09-02T16:22:29.812697Z",
          "iopub.status.idle": "2021-09-02T16:22:30.108258Z",
          "shell.execute_reply.started": "2021-09-02T16:22:29.812658Z",
          "shell.execute_reply": "2021-09-02T16:22:30.107447Z"
        },
        "trusted": true
      },
      "source": [
        "\n",
        "from keras.models import Sequential, Model \n",
        "from keras.layers import Lambda, SeparableConv2D, BatchNormalization, Dropout, MaxPooling2D, Input, Dense, Conv2D, Activation, Flatten \n",
        "\n",
        "from sklearn.metrics import accuracy_score, confusion_matrix\n",
        "\n",
        "from keras import backend as K\n",
        "from keras.losses import binary_crossentropy\n",
        "import tensorflow as tf\n",
        "import os\n",
        "import skimage.io as io\n",
        "import skimage.transform as trans\n",
        "import cv2\n",
        "import warnings\n",
        "warnings.filterwarnings(\"ignore\")\n"
      ],
      "execution_count": null,
      "outputs": []
    },
    {
      "cell_type": "markdown",
      "metadata": {
        "id": "AMfBZ9_6IIxK"
      },
      "source": [
        "## Metrics"
      ]
    },
    {
      "cell_type": "code",
      "metadata": {
        "id": "NKHmFHuXIIxM",
        "execution": {
          "iopub.status.busy": "2021-09-02T16:22:30.109540Z",
          "iopub.execute_input": "2021-09-02T16:22:30.109882Z",
          "iopub.status.idle": "2021-09-02T16:22:30.117289Z",
          "shell.execute_reply.started": "2021-09-02T16:22:30.109849Z",
          "shell.execute_reply": "2021-09-02T16:22:30.116460Z"
        },
        "trusted": true
      },
      "source": [
        "\n",
        "\n",
        "def precision(y_true, y_pred):\n",
        "    \"\"\"Precision metric.\n",
        "\n",
        "    Only computes a batch-wise average of precision.\n",
        "\n",
        "    Computes the precision, a metric for multi-label classification of\n",
        "    how many selected items are relevant.\n",
        "    \"\"\"\n",
        "    true_positives = K.sum(K.round(K.clip(y_true * y_pred, 0, 1)))\n",
        "    predicted_positives = K.sum(K.round(K.clip(y_pred, 0, 1)))\n",
        "    precision = true_positives / (predicted_positives + K.epsilon())\n",
        "    return precision\n",
        "def recall(y_true, y_pred):\n",
        "        \"\"\"Recall metric.\n",
        "\n",
        "        Only computes a batch-wise average of recall.\n",
        "\n",
        "        Computes the recall, a metric for multi-label classification of\n",
        "        how many relevant items are selected.\n",
        "        \"\"\"\n",
        "        true_positives = K.sum(K.round(K.clip(y_true * y_pred, 0, 1)))\n",
        "        possible_positives = K.sum(K.round(K.clip(y_true, 0, 1)))\n",
        "        recall = true_positives / (possible_positives + K.epsilon())\n",
        "        return recall\n"
      ],
      "execution_count": null,
      "outputs": []
    },
    {
      "cell_type": "markdown",
      "metadata": {
        "id": "3H2S9kRuIIxM"
      },
      "source": [
        "# One Hot Encodeing"
      ]
    },
    {
      "cell_type": "code",
      "metadata": {
        "id": "GghJbn7xIIxN",
        "execution": {
          "iopub.status.busy": "2021-09-02T16:22:30.118560Z",
          "iopub.execute_input": "2021-09-02T16:22:30.119102Z",
          "iopub.status.idle": "2021-09-02T16:22:30.130513Z",
          "shell.execute_reply.started": "2021-09-02T16:22:30.119065Z",
          "shell.execute_reply": "2021-09-02T16:22:30.129717Z"
        },
        "trusted": true
      },
      "source": [
        "#One hot encode y values for neural network. \n",
        "from keras.utils import to_categorical\n",
        "train_labels_one_hot = to_categorical(train_labels)\n",
        "test_labels_one_hot = to_categorical(test_labels)\n",
        "val_labels_one_hot = to_categorical(val_labels)\n"
      ],
      "execution_count": null,
      "outputs": []
    },
    {
      "cell_type": "markdown",
      "metadata": {
        "id": "LMhCYnMoIIxO"
      },
      "source": [
        "# **Data_Augmentation**"
      ]
    },
    {
      "cell_type": "code",
      "metadata": {
        "id": "zsmDDcXZIIxO",
        "execution": {
          "iopub.status.busy": "2021-09-02T16:22:30.133094Z",
          "iopub.execute_input": "2021-09-02T16:22:30.133394Z",
          "iopub.status.idle": "2021-09-02T16:22:32.081806Z",
          "shell.execute_reply.started": "2021-09-02T16:22:30.133370Z",
          "shell.execute_reply": "2021-09-02T16:22:32.080979Z"
        },
        "trusted": true
      },
      "source": [
        "from tensorflow.keras import layers\n",
        "\n",
        "data_augmentation = keras.Sequential(\n",
        "    [\n",
        "        layers.experimental.preprocessing.RandomFlip(\"horizontal\"),\n",
        "        layers.experimental.preprocessing.RandomRotation(0.1),\n",
        "    ]\n",
        ")"
      ],
      "execution_count": null,
      "outputs": []
    },
    {
      "cell_type": "code",
      "metadata": {
        "execution": {
          "iopub.status.busy": "2021-09-02T17:29:05.729355Z",
          "iopub.execute_input": "2021-09-02T17:29:05.729682Z",
          "iopub.status.idle": "2021-09-02T17:29:06.172039Z",
          "shell.execute_reply.started": "2021-09-02T17:29:05.729651Z",
          "shell.execute_reply": "2021-09-02T17:29:06.171244Z"
        },
        "trusted": true,
        "id": "fUwOQGU91kSB",
        "outputId": "e92ffacd-6575-4516-8109-91ba97bd5b73"
      },
      "source": [
        "\n",
        "import tensorflow as tf\n",
        "from tensorflow.keras.layers import Input,Dense,Conv2D,Add\n",
        "from tensorflow.keras.layers import SeparableConv2D,ReLU\n",
        "from tensorflow.keras.layers import BatchNormalization,MaxPool2D\n",
        "from tensorflow.keras.layers import GlobalAvgPool2D\n",
        "from tensorflow.keras import Model\n",
        "# creating the Conv-Batch Norm block\n",
        "\n",
        "def conv_bn(x, filters, kernel_size, strides=1):\n",
        "    \n",
        "    x = Conv2D(filters=filters, \n",
        "               kernel_size = kernel_size, \n",
        "               strides=strides, \n",
        "               padding = 'same', \n",
        "               use_bias = False)(x)\n",
        "    x = BatchNormalization()(x)\n",
        "    return x\n",
        "# creating separableConv-Batch Norm block\n",
        "\n",
        "def sep_bn(x, filters, kernel_size, strides=1):\n",
        "    \n",
        "    x = SeparableConv2D(filters=filters, \n",
        "                        kernel_size = kernel_size, \n",
        "                        strides=strides, \n",
        "                        padding = 'same', \n",
        "                        use_bias = False)(x)\n",
        "    x = BatchNormalization()(x)\n",
        "    return x\n",
        "# entry flow\n",
        "\n",
        "def entry_flow(x):\n",
        "    \n",
        "    x = conv_bn(x, filters =32, kernel_size =3, strides=2)\n",
        "    x = ReLU()(x)\n",
        "    x = conv_bn(x, filters =64, kernel_size =3, strides=1)\n",
        "    tensor = ReLU()(x)\n",
        "    \n",
        "    x = sep_bn(tensor, filters = 128, kernel_size =3)\n",
        "    x = ReLU()(x)\n",
        "    x = sep_bn(x, filters = 128, kernel_size =3)\n",
        "    x = MaxPool2D(pool_size=3, strides=2, padding = 'same')(x)\n",
        "    \n",
        "    tensor = conv_bn(tensor, filters=128, kernel_size = 1,strides=2)\n",
        "    x = Add()([tensor,x])\n",
        "    \n",
        "    x = ReLU()(x)\n",
        "    x = sep_bn(x, filters =256, kernel_size=3)\n",
        "    x = ReLU()(x)\n",
        "    x = sep_bn(x, filters =256, kernel_size=3)\n",
        "    x = MaxPool2D(pool_size=3, strides=2, padding = 'same')(x)\n",
        "    \n",
        "    tensor = conv_bn(tensor, filters=256, kernel_size = 1,strides=2)\n",
        "    x = Add()([tensor,x])\n",
        "    \n",
        "    x = ReLU()(x)\n",
        "    x = sep_bn(x, filters =728, kernel_size=3)\n",
        "    x = ReLU()(x)\n",
        "    x = sep_bn(x, filters =728, kernel_size=3)\n",
        "    x = MaxPool2D(pool_size=3, strides=2, padding = 'same')(x)\n",
        "    \n",
        "    tensor = conv_bn(tensor, filters=728, kernel_size = 1,strides=2)\n",
        "    x = Add()([tensor,x])\n",
        "    return x\n",
        "# middle flow\n",
        "\n",
        "def middle_flow(tensor):\n",
        "    \n",
        "    for _ in range(2):\n",
        "        x = ReLU()(tensor)\n",
        "        x = sep_bn(x, filters = 728, kernel_size = 3)\n",
        "        x = ReLU()(x)\n",
        "        x = sep_bn(x, filters = 728, kernel_size = 3)\n",
        "        x = ReLU()(x)\n",
        "        x = sep_bn(x, filters = 728, kernel_size = 3)\n",
        "        x = ReLU()(x)\n",
        "        tensor = Add()([tensor,x])\n",
        "        \n",
        "    return tensor\n",
        "# exit flow\n",
        "\n",
        "def exit_flow(tensor):\n",
        "    \n",
        "    x = ReLU()(tensor)\n",
        "    x = sep_bn(x, filters = 728,  kernel_size=3)\n",
        "    x = ReLU()(x)\n",
        "    x = sep_bn(x, filters = 1024,  kernel_size=3)\n",
        "    x = MaxPool2D(pool_size = 3, strides = 2, padding ='same')(x)\n",
        "    \n",
        "    tensor = conv_bn(tensor, filters =1024, kernel_size=1, strides =2)\n",
        "    x = Add()([tensor,x])\n",
        "    \n",
        "    x = sep_bn(x, filters = 1536,  kernel_size=3)\n",
        "    #x = ReLU()(x)\n",
        "    #x = sep_bn(x, filters = 2048,  kernel_size=3)\n",
        "    x = Flatten()(x)\n",
        "    \n",
        "    x = Dense(units = 512 , activation = 'relu'  )(x)\n",
        "    x = Dropout(0.7)(x)\n",
        "    x = Dense(units = 128 , activation = 'relu'  )(x)\n",
        "    x = Dropout(0.5)(x)\n",
        "    x=  Dense(units = 64 , activation = 'relu' )(x)\n",
        "    x = Dropout(0.3)(x)\n",
        "    \n",
        "    x  = Dense(units = 1 ,kernel_regularizer = tf.keras.regularizers.l2(0.01), activation = 'linear')(x)\n",
        "    \n",
        "    return x\n",
        "# model code\n",
        "\n",
        "input = Input(shape = (256,256,3))\n",
        "x = entry_flow(input)\n",
        "x = middle_flow(x)\n",
        "output = exit_flow(x)\n",
        "\n",
        "model = Model (inputs=input, outputs=output)\n",
        "model.summary()"
      ],
      "execution_count": null,
      "outputs": [
        {
          "name": "stdout",
          "text": "Model: \"model_6\"\n__________________________________________________________________________________________________\nLayer (type)                    Output Shape         Param #     Connected to                     \n==================================================================================================\ninput_7 (InputLayer)            [(None, 256, 256, 3) 0                                            \n__________________________________________________________________________________________________\nconv2d_36 (Conv2D)              (None, 128, 128, 32) 864         input_7[0][0]                    \n__________________________________________________________________________________________________\nbatch_normalization_221 (BatchN (None, 128, 128, 32) 128         conv2d_36[0][0]                  \n__________________________________________________________________________________________________\nre_lu_227 (ReLU)                (None, 128, 128, 32) 0           batch_normalization_221[0][0]    \n__________________________________________________________________________________________________\nconv2d_37 (Conv2D)              (None, 128, 128, 64) 18432       re_lu_227[0][0]                  \n__________________________________________________________________________________________________\nbatch_normalization_222 (BatchN (None, 128, 128, 64) 256         conv2d_37[0][0]                  \n__________________________________________________________________________________________________\nre_lu_228 (ReLU)                (None, 128, 128, 64) 0           batch_normalization_222[0][0]    \n__________________________________________________________________________________________________\nseparable_conv2d_185 (Separable (None, 128, 128, 128 8768        re_lu_228[0][0]                  \n__________________________________________________________________________________________________\nbatch_normalization_223 (BatchN (None, 128, 128, 128 512         separable_conv2d_185[0][0]       \n__________________________________________________________________________________________________\nre_lu_229 (ReLU)                (None, 128, 128, 128 0           batch_normalization_223[0][0]    \n__________________________________________________________________________________________________\nseparable_conv2d_186 (Separable (None, 128, 128, 128 17536       re_lu_229[0][0]                  \n__________________________________________________________________________________________________\nconv2d_38 (Conv2D)              (None, 64, 64, 128)  8192        re_lu_228[0][0]                  \n__________________________________________________________________________________________________\nbatch_normalization_224 (BatchN (None, 128, 128, 128 512         separable_conv2d_186[0][0]       \n__________________________________________________________________________________________________\nbatch_normalization_225 (BatchN (None, 64, 64, 128)  512         conv2d_38[0][0]                  \n__________________________________________________________________________________________________\nmax_pooling2d_24 (MaxPooling2D) (None, 64, 64, 128)  0           batch_normalization_224[0][0]    \n__________________________________________________________________________________________________\nadd_66 (Add)                    (None, 64, 64, 128)  0           batch_normalization_225[0][0]    \n                                                                 max_pooling2d_24[0][0]           \n__________________________________________________________________________________________________\nre_lu_230 (ReLU)                (None, 64, 64, 128)  0           add_66[0][0]                     \n__________________________________________________________________________________________________\nseparable_conv2d_187 (Separable (None, 64, 64, 256)  33920       re_lu_230[0][0]                  \n__________________________________________________________________________________________________\nbatch_normalization_226 (BatchN (None, 64, 64, 256)  1024        separable_conv2d_187[0][0]       \n__________________________________________________________________________________________________\nre_lu_231 (ReLU)                (None, 64, 64, 256)  0           batch_normalization_226[0][0]    \n__________________________________________________________________________________________________\nseparable_conv2d_188 (Separable (None, 64, 64, 256)  67840       re_lu_231[0][0]                  \n__________________________________________________________________________________________________\nconv2d_39 (Conv2D)              (None, 32, 32, 256)  32768       batch_normalization_225[0][0]    \n__________________________________________________________________________________________________\nbatch_normalization_227 (BatchN (None, 64, 64, 256)  1024        separable_conv2d_188[0][0]       \n__________________________________________________________________________________________________\nbatch_normalization_228 (BatchN (None, 32, 32, 256)  1024        conv2d_39[0][0]                  \n__________________________________________________________________________________________________\nmax_pooling2d_25 (MaxPooling2D) (None, 32, 32, 256)  0           batch_normalization_227[0][0]    \n__________________________________________________________________________________________________\nadd_67 (Add)                    (None, 32, 32, 256)  0           batch_normalization_228[0][0]    \n                                                                 max_pooling2d_25[0][0]           \n__________________________________________________________________________________________________\nre_lu_232 (ReLU)                (None, 32, 32, 256)  0           add_67[0][0]                     \n__________________________________________________________________________________________________\nseparable_conv2d_189 (Separable (None, 32, 32, 728)  188672      re_lu_232[0][0]                  \n__________________________________________________________________________________________________\nbatch_normalization_229 (BatchN (None, 32, 32, 728)  2912        separable_conv2d_189[0][0]       \n__________________________________________________________________________________________________\nre_lu_233 (ReLU)                (None, 32, 32, 728)  0           batch_normalization_229[0][0]    \n__________________________________________________________________________________________________\nseparable_conv2d_190 (Separable (None, 32, 32, 728)  536536      re_lu_233[0][0]                  \n__________________________________________________________________________________________________\nconv2d_40 (Conv2D)              (None, 16, 16, 728)  186368      batch_normalization_228[0][0]    \n__________________________________________________________________________________________________\nbatch_normalization_230 (BatchN (None, 32, 32, 728)  2912        separable_conv2d_190[0][0]       \n__________________________________________________________________________________________________\nbatch_normalization_231 (BatchN (None, 16, 16, 728)  2912        conv2d_40[0][0]                  \n__________________________________________________________________________________________________\nmax_pooling2d_26 (MaxPooling2D) (None, 16, 16, 728)  0           batch_normalization_230[0][0]    \n__________________________________________________________________________________________________\nadd_68 (Add)                    (None, 16, 16, 728)  0           batch_normalization_231[0][0]    \n                                                                 max_pooling2d_26[0][0]           \n__________________________________________________________________________________________________\nre_lu_234 (ReLU)                (None, 16, 16, 728)  0           add_68[0][0]                     \n__________________________________________________________________________________________________\nseparable_conv2d_191 (Separable (None, 16, 16, 728)  536536      re_lu_234[0][0]                  \n__________________________________________________________________________________________________\nbatch_normalization_232 (BatchN (None, 16, 16, 728)  2912        separable_conv2d_191[0][0]       \n__________________________________________________________________________________________________\nre_lu_235 (ReLU)                (None, 16, 16, 728)  0           batch_normalization_232[0][0]    \n__________________________________________________________________________________________________\nseparable_conv2d_192 (Separable (None, 16, 16, 728)  536536      re_lu_235[0][0]                  \n__________________________________________________________________________________________________\nbatch_normalization_233 (BatchN (None, 16, 16, 728)  2912        separable_conv2d_192[0][0]       \n__________________________________________________________________________________________________\nre_lu_236 (ReLU)                (None, 16, 16, 728)  0           batch_normalization_233[0][0]    \n__________________________________________________________________________________________________\nseparable_conv2d_193 (Separable (None, 16, 16, 728)  536536      re_lu_236[0][0]                  \n__________________________________________________________________________________________________\nbatch_normalization_234 (BatchN (None, 16, 16, 728)  2912        separable_conv2d_193[0][0]       \n__________________________________________________________________________________________________\nre_lu_237 (ReLU)                (None, 16, 16, 728)  0           batch_normalization_234[0][0]    \n__________________________________________________________________________________________________\nadd_69 (Add)                    (None, 16, 16, 728)  0           add_68[0][0]                     \n                                                                 re_lu_237[0][0]                  \n__________________________________________________________________________________________________\nre_lu_238 (ReLU)                (None, 16, 16, 728)  0           add_69[0][0]                     \n__________________________________________________________________________________________________\nseparable_conv2d_194 (Separable (None, 16, 16, 728)  536536      re_lu_238[0][0]                  \n__________________________________________________________________________________________________\nbatch_normalization_235 (BatchN (None, 16, 16, 728)  2912        separable_conv2d_194[0][0]       \n__________________________________________________________________________________________________\nre_lu_239 (ReLU)                (None, 16, 16, 728)  0           batch_normalization_235[0][0]    \n__________________________________________________________________________________________________\nseparable_conv2d_195 (Separable (None, 16, 16, 728)  536536      re_lu_239[0][0]                  \n__________________________________________________________________________________________________\nbatch_normalization_236 (BatchN (None, 16, 16, 728)  2912        separable_conv2d_195[0][0]       \n__________________________________________________________________________________________________\nre_lu_240 (ReLU)                (None, 16, 16, 728)  0           batch_normalization_236[0][0]    \n__________________________________________________________________________________________________\nseparable_conv2d_196 (Separable (None, 16, 16, 728)  536536      re_lu_240[0][0]                  \n__________________________________________________________________________________________________\nbatch_normalization_237 (BatchN (None, 16, 16, 728)  2912        separable_conv2d_196[0][0]       \n__________________________________________________________________________________________________\nre_lu_241 (ReLU)                (None, 16, 16, 728)  0           batch_normalization_237[0][0]    \n__________________________________________________________________________________________________\nadd_70 (Add)                    (None, 16, 16, 728)  0           add_69[0][0]                     \n                                                                 re_lu_241[0][0]                  \n__________________________________________________________________________________________________\nre_lu_242 (ReLU)                (None, 16, 16, 728)  0           add_70[0][0]                     \n__________________________________________________________________________________________________\nseparable_conv2d_197 (Separable (None, 16, 16, 728)  536536      re_lu_242[0][0]                  \n__________________________________________________________________________________________________\nbatch_normalization_238 (BatchN (None, 16, 16, 728)  2912        separable_conv2d_197[0][0]       \n__________________________________________________________________________________________________\nre_lu_243 (ReLU)                (None, 16, 16, 728)  0           batch_normalization_238[0][0]    \n__________________________________________________________________________________________________\nseparable_conv2d_198 (Separable (None, 16, 16, 1024) 752024      re_lu_243[0][0]                  \n__________________________________________________________________________________________________\nconv2d_41 (Conv2D)              (None, 8, 8, 1024)   745472      add_70[0][0]                     \n__________________________________________________________________________________________________\nbatch_normalization_239 (BatchN (None, 16, 16, 1024) 4096        separable_conv2d_198[0][0]       \n__________________________________________________________________________________________________\nbatch_normalization_240 (BatchN (None, 8, 8, 1024)   4096        conv2d_41[0][0]                  \n__________________________________________________________________________________________________\nmax_pooling2d_27 (MaxPooling2D) (None, 8, 8, 1024)   0           batch_normalization_239[0][0]    \n__________________________________________________________________________________________________\nadd_71 (Add)                    (None, 8, 8, 1024)   0           batch_normalization_240[0][0]    \n                                                                 max_pooling2d_27[0][0]           \n__________________________________________________________________________________________________\nseparable_conv2d_199 (Separable (None, 8, 8, 1536)   1582080     add_71[0][0]                     \n__________________________________________________________________________________________________\nbatch_normalization_241 (BatchN (None, 8, 8, 1536)   6144        separable_conv2d_199[0][0]       \n__________________________________________________________________________________________________\nflatten_5 (Flatten)             (None, 98304)        0           batch_normalization_241[0][0]    \n__________________________________________________________________________________________________\ndense_21 (Dense)                (None, 512)          50332160    flatten_5[0][0]                  \n__________________________________________________________________________________________________\ndropout_15 (Dropout)            (None, 512)          0           dense_21[0][0]                   \n__________________________________________________________________________________________________\ndense_22 (Dense)                (None, 128)          65664       dropout_15[0][0]                 \n__________________________________________________________________________________________________\ndropout_16 (Dropout)            (None, 128)          0           dense_22[0][0]                   \n__________________________________________________________________________________________________\ndense_23 (Dense)                (None, 64)           8256        dropout_16[0][0]                 \n__________________________________________________________________________________________________\ndropout_17 (Dropout)            (None, 64)           0           dense_23[0][0]                   \n__________________________________________________________________________________________________\ndense_24 (Dense)                (None, 1)            65          dropout_17[0][0]                 \n==================================================================================================\nTotal params: 58,389,817\nTrainable params: 58,365,593\nNon-trainable params: 24,224\n__________________________________________________________________________________________________\n",
          "output_type": "stream"
        }
      ]
    },
    {
      "cell_type": "code",
      "metadata": {
        "execution": {
          "iopub.status.busy": "2021-09-02T17:29:22.118795Z",
          "iopub.execute_input": "2021-09-02T17:29:22.119126Z",
          "iopub.status.idle": "2021-09-02T17:29:22.134568Z",
          "shell.execute_reply.started": "2021-09-02T17:29:22.119081Z",
          "shell.execute_reply": "2021-09-02T17:29:22.133756Z"
        },
        "trusted": true,
        "id": "0KU0DlRt1kSD"
      },
      "source": [
        "model.compile(optimizer=Adam(lr=7.00E-05), loss = 'hinge', metrics = ['accuracy',precision,recall])\n",
        "\n",
        "from tensorflow.keras.callbacks import EarlyStopping, ModelCheckpoint, ReduceLROnPlateau\n",
        "\n",
        "#early_stop = EarlyStopping(monitor='val_loss', min_delta=0.1, patience=5, verbose = 1, mode='min', restore_best_weights = True)\n",
        "\n",
        "learning_rate_reduction = ReduceLROnPlateau(\n",
        "    monitor = 'val_accuracy', \n",
        "    patience = 3, \n",
        "    verbose = 1, \n",
        "    factor = 0.3, \n",
        "    #min_lr = 0.000001\n",
        "    )\n",
        "\n",
        "\n",
        "model_checkpoint1 = keras.callbacks.ModelCheckpoint('Xception1.hdf5', monitor='val_accuracy',verbose=1, mode='max',save_best_only=True)\n",
        "csv_logger = CSVLogger('training_model_metrics_values.log', append=True, separator=';')\n",
        "\n"
      ],
      "execution_count": null,
      "outputs": []
    },
    {
      "cell_type": "code",
      "metadata": {
        "execution": {
          "iopub.status.busy": "2021-09-02T17:29:37.188049Z",
          "iopub.execute_input": "2021-09-02T17:29:37.188403Z",
          "iopub.status.idle": "2021-09-02T17:48:22.073331Z",
          "shell.execute_reply.started": "2021-09-02T17:29:37.188371Z",
          "shell.execute_reply": "2021-09-02T17:48:22.072221Z"
        },
        "trusted": true,
        "id": "ZMXam63v1kSE",
        "outputId": "11580a8c-35c3-4049-bf1d-a94ec156bdfc"
      },
      "source": [
        "history6 = model.fit(\n",
        "    train_images, \n",
        "    train_labels, \n",
        "    batch_size = 2, \n",
        "    epochs = 40, \n",
        "    validation_data=(val_images, val_labels), \n",
        "    callbacks=[ model_checkpoint1 ,csv_logger  ])"
      ],
      "execution_count": null,
      "outputs": [
        {
          "name": "stdout",
          "text": "Epoch 1/40\n600/600 [==============================] - 30s 47ms/step - loss: 2.1090 - accuracy: 0.6366 - precision: 0.6281 - recall: 0.6182 - val_loss: 9.1726 - val_accuracy: 0.3400 - val_precision: 0.0000e+00 - val_recall: 0.0000e+00\n\nEpoch 00001: val_accuracy improved from -inf to 0.34000, saving model to Xception1.hdf5\nEpoch 2/40\n600/600 [==============================] - 28s 46ms/step - loss: 1.5572 - accuracy: 0.7537 - precision: 0.7147 - recall: 0.6736 - val_loss: 0.2226 - val_accuracy: 0.9533 - val_precision: 0.8333 - val_recall: 0.8333\n\nEpoch 00002: val_accuracy improved from 0.34000 to 0.95333, saving model to Xception1.hdf5\nEpoch 3/40\n600/600 [==============================] - 28s 46ms/step - loss: 1.4918 - accuracy: 0.7604 - precision: 0.7366 - recall: 0.7271 - val_loss: 0.3769 - val_accuracy: 0.9533 - val_precision: 0.8600 - val_recall: 0.8733\n\nEpoch 00003: val_accuracy did not improve from 0.95333\nEpoch 4/40\n600/600 [==============================] - 28s 47ms/step - loss: 1.3110 - accuracy: 0.8083 - precision: 0.7416 - recall: 0.7133 - val_loss: 0.2593 - val_accuracy: 0.9667 - val_precision: 0.8667 - val_recall: 0.8667\n\nEpoch 00004: val_accuracy improved from 0.95333 to 0.96667, saving model to Xception1.hdf5\nEpoch 5/40\n600/600 [==============================] - 28s 46ms/step - loss: 1.2704 - accuracy: 0.8293 - precision: 0.7555 - recall: 0.7272 - val_loss: 0.7761 - val_accuracy: 0.8867 - val_precision: 0.8200 - val_recall: 0.8800\n\nEpoch 00005: val_accuracy did not improve from 0.96667\nEpoch 6/40\n600/600 [==============================] - 28s 46ms/step - loss: 0.9866 - accuracy: 0.8569 - precision: 0.7889 - recall: 0.7801 - val_loss: 0.2276 - val_accuracy: 0.9533 - val_precision: 0.8400 - val_recall: 0.8400\n\nEpoch 00006: val_accuracy did not improve from 0.96667\nEpoch 7/40\n600/600 [==============================] - 28s 46ms/step - loss: 0.8238 - accuracy: 0.8856 - precision: 0.8111 - recall: 0.7884 - val_loss: 0.1680 - val_accuracy: 0.9733 - val_precision: 0.8733 - val_recall: 0.8667\n\nEpoch 00007: val_accuracy improved from 0.96667 to 0.97333, saving model to Xception1.hdf5\nEpoch 8/40\n600/600 [==============================] - 28s 46ms/step - loss: 0.7974 - accuracy: 0.8912 - precision: 0.8035 - recall: 0.7904 - val_loss: 0.2504 - val_accuracy: 0.9400 - val_precision: 0.8267 - val_recall: 0.8067\n\nEpoch 00008: val_accuracy did not improve from 0.97333\nEpoch 9/40\n600/600 [==============================] - 28s 46ms/step - loss: 0.7888 - accuracy: 0.8845 - precision: 0.7870 - recall: 0.7782 - val_loss: 0.3827 - val_accuracy: 0.9133 - val_precision: 0.8267 - val_recall: 0.7733\n\nEpoch 00009: val_accuracy did not improve from 0.97333\nEpoch 10/40\n600/600 [==============================] - 28s 47ms/step - loss: 0.6177 - accuracy: 0.9052 - precision: 0.8158 - recall: 0.8000 - val_loss: 0.3138 - val_accuracy: 0.9333 - val_precision: 0.8067 - val_recall: 0.7867\n\nEpoch 00010: val_accuracy did not improve from 0.97333\nEpoch 11/40\n600/600 [==============================] - 28s 46ms/step - loss: 0.6747 - accuracy: 0.9197 - precision: 0.8113 - recall: 0.8008 - val_loss: 0.2794 - val_accuracy: 0.9600 - val_precision: 0.8667 - val_recall: 0.8667\n\nEpoch 00011: val_accuracy did not improve from 0.97333\nEpoch 12/40\n600/600 [==============================] - 28s 46ms/step - loss: 0.5322 - accuracy: 0.9380 - precision: 0.8343 - recall: 0.8278 - val_loss: 0.4663 - val_accuracy: 0.9667 - val_precision: 0.8667 - val_recall: 0.8800\n\nEpoch 00012: val_accuracy did not improve from 0.97333\nEpoch 13/40\n600/600 [==============================] - 28s 46ms/step - loss: 0.6980 - accuracy: 0.9264 - precision: 0.8059 - recall: 0.8131 - val_loss: 0.2742 - val_accuracy: 0.9667 - val_precision: 0.8733 - val_recall: 0.8600\n\nEpoch 00013: val_accuracy did not improve from 0.97333\nEpoch 14/40\n600/600 [==============================] - 27s 46ms/step - loss: 0.5817 - accuracy: 0.9369 - precision: 0.8567 - recall: 0.8367 - val_loss: 0.3058 - val_accuracy: 0.9800 - val_precision: 0.8733 - val_recall: 0.8800\n\nEpoch 00014: val_accuracy improved from 0.97333 to 0.98000, saving model to Xception1.hdf5\nEpoch 15/40\n600/600 [==============================] - 28s 46ms/step - loss: 0.5205 - accuracy: 0.9514 - precision: 0.8294 - recall: 0.8133 - val_loss: 0.1793 - val_accuracy: 0.9733 - val_precision: 0.8733 - val_recall: 0.8667\n\nEpoch 00015: val_accuracy did not improve from 0.98000\nEpoch 16/40\n600/600 [==============================] - 28s 47ms/step - loss: 0.3182 - accuracy: 0.9622 - precision: 0.7913 - recall: 0.7936 - val_loss: 0.3030 - val_accuracy: 0.9733 - val_precision: 0.8733 - val_recall: 0.8733\n\nEpoch 00016: val_accuracy did not improve from 0.98000\nEpoch 17/40\n600/600 [==============================] - 28s 46ms/step - loss: 0.3631 - accuracy: 0.9625 - precision: 0.8534 - recall: 0.8481 - val_loss: 0.3034 - val_accuracy: 0.9600 - val_precision: 0.8600 - val_recall: 0.8733\n\nEpoch 00017: val_accuracy did not improve from 0.98000\nEpoch 18/40\n600/600 [==============================] - 27s 46ms/step - loss: 0.5491 - accuracy: 0.9421 - precision: 0.8151 - recall: 0.8096 - val_loss: 0.5374 - val_accuracy: 0.9133 - val_precision: 0.8133 - val_recall: 0.8600\n\nEpoch 00018: val_accuracy did not improve from 0.98000\nEpoch 19/40\n600/600 [==============================] - 28s 46ms/step - loss: 0.6113 - accuracy: 0.9227 - precision: 0.8240 - recall: 0.8128 - val_loss: 0.3471 - val_accuracy: 0.9533 - val_precision: 0.8467 - val_recall: 0.8667\n\nEpoch 00019: val_accuracy did not improve from 0.98000\nEpoch 20/40\n600/600 [==============================] - 27s 46ms/step - loss: 0.5203 - accuracy: 0.9517 - precision: 0.8345 - recall: 0.8259 - val_loss: 0.2014 - val_accuracy: 0.9733 - val_precision: 0.8733 - val_recall: 0.8600\n\nEpoch 00020: val_accuracy did not improve from 0.98000\nEpoch 21/40\n600/600 [==============================] - 28s 46ms/step - loss: 0.5890 - accuracy: 0.9521 - precision: 0.8497 - recall: 0.8507 - val_loss: 0.8670 - val_accuracy: 0.9200 - val_precision: 0.8400 - val_recall: 0.8800\n\nEpoch 00021: val_accuracy did not improve from 0.98000\nEpoch 22/40\n600/600 [==============================] - 28s 47ms/step - loss: 0.4416 - accuracy: 0.9570 - precision: 0.8213 - recall: 0.8108 - val_loss: 0.1982 - val_accuracy: 0.9733 - val_precision: 0.8600 - val_recall: 0.8600\n\nEpoch 00022: val_accuracy did not improve from 0.98000\nEpoch 23/40\n600/600 [==============================] - 28s 46ms/step - loss: 0.2768 - accuracy: 0.9782 - precision: 0.8505 - recall: 0.8474 - val_loss: 0.2925 - val_accuracy: 0.9733 - val_precision: 0.8733 - val_recall: 0.8667\n\nEpoch 00023: val_accuracy did not improve from 0.98000\nEpoch 24/40\n600/600 [==============================] - 28s 46ms/step - loss: 0.2067 - accuracy: 0.9765 - precision: 0.8416 - recall: 0.8364 - val_loss: 0.2621 - val_accuracy: 0.9733 - val_precision: 0.8733 - val_recall: 0.8667\n\nEpoch 00024: val_accuracy did not improve from 0.98000\nEpoch 25/40\n600/600 [==============================] - 28s 46ms/step - loss: 0.1590 - accuracy: 0.9791 - precision: 0.8616 - recall: 0.8505 - val_loss: 0.3755 - val_accuracy: 0.9733 - val_precision: 0.8733 - val_recall: 0.8667\n\nEpoch 00025: val_accuracy did not improve from 0.98000\nEpoch 26/40\n600/600 [==============================] - 28s 46ms/step - loss: 0.5676 - accuracy: 0.9603 - precision: 0.8514 - recall: 0.8530 - val_loss: 0.3351 - val_accuracy: 0.9733 - val_precision: 0.8733 - val_recall: 0.8667\n\nEpoch 00026: val_accuracy did not improve from 0.98000\nEpoch 27/40\n600/600 [==============================] - 28s 46ms/step - loss: 0.2565 - accuracy: 0.9770 - precision: 0.8430 - recall: 0.8403 - val_loss: 0.4187 - val_accuracy: 0.9267 - val_precision: 0.8400 - val_recall: 0.8000\n\nEpoch 00027: val_accuracy did not improve from 0.98000\nEpoch 28/40\n600/600 [==============================] - 28s 47ms/step - loss: 0.1043 - accuracy: 0.9837 - precision: 0.8747 - recall: 0.8672 - val_loss: 0.4588 - val_accuracy: 0.9467 - val_precision: 0.8600 - val_recall: 0.8333\n\nEpoch 00028: val_accuracy did not improve from 0.98000\nEpoch 29/40\n600/600 [==============================] - 28s 46ms/step - loss: 0.1886 - accuracy: 0.9763 - precision: 0.8436 - recall: 0.8456 - val_loss: 2.1387 - val_accuracy: 0.9067 - val_precision: 0.8400 - val_recall: 0.8667\n\nEpoch 00029: val_accuracy did not improve from 0.98000\nEpoch 30/40\n600/600 [==============================] - 28s 46ms/step - loss: 0.1691 - accuracy: 0.9783 - precision: 0.8440 - recall: 0.8348 - val_loss: 0.5177 - val_accuracy: 0.9600 - val_precision: 0.8600 - val_recall: 0.8467\n\nEpoch 00030: val_accuracy did not improve from 0.98000\nEpoch 31/40\n600/600 [==============================] - 27s 46ms/step - loss: 0.1547 - accuracy: 0.9797 - precision: 0.8525 - recall: 0.8532 - val_loss: 0.3919 - val_accuracy: 0.9867 - val_precision: 0.8733 - val_recall: 0.8800\n\nEpoch 00031: val_accuracy improved from 0.98000 to 0.98667, saving model to Xception1.hdf5\nEpoch 32/40\n600/600 [==============================] - 28s 46ms/step - loss: 0.2066 - accuracy: 0.9759 - precision: 0.8423 - recall: 0.8436 - val_loss: 0.4150 - val_accuracy: 0.9667 - val_precision: 0.8600 - val_recall: 0.8600\n\nEpoch 00032: val_accuracy did not improve from 0.98667\nEpoch 33/40\n600/600 [==============================] - 28s 47ms/step - loss: 0.2958 - accuracy: 0.9705 - precision: 0.8621 - recall: 0.8545 - val_loss: 0.4113 - val_accuracy: 0.9800 - val_precision: 0.8600 - val_recall: 0.8667\n\nEpoch 00033: val_accuracy did not improve from 0.98667\nEpoch 34/40\n600/600 [==============================] - 28s 47ms/step - loss: 0.1852 - accuracy: 0.9861 - precision: 0.8344 - recall: 0.8314 - val_loss: 0.5237 - val_accuracy: 0.9533 - val_precision: 0.8533 - val_recall: 0.8600\n\nEpoch 00034: val_accuracy did not improve from 0.98667\nEpoch 35/40\n600/600 [==============================] - 28s 46ms/step - loss: 0.2228 - accuracy: 0.9834 - precision: 0.8546 - recall: 0.8475 - val_loss: 0.4702 - val_accuracy: 0.9467 - val_precision: 0.8467 - val_recall: 0.8333\n\nEpoch 00035: val_accuracy did not improve from 0.98667\nEpoch 36/40\n600/600 [==============================] - 28s 46ms/step - loss: 0.2225 - accuracy: 0.9809 - precision: 0.8203 - recall: 0.8208 - val_loss: 0.5710 - val_accuracy: 0.9267 - val_precision: 0.8133 - val_recall: 0.8067\n\nEpoch 00036: val_accuracy did not improve from 0.98667\nEpoch 37/40\n600/600 [==============================] - 28s 47ms/step - loss: 0.1745 - accuracy: 0.9789 - precision: 0.8414 - recall: 0.8432 - val_loss: 0.5305 - val_accuracy: 0.9400 - val_precision: 0.8200 - val_recall: 0.8067\n\nEpoch 00037: val_accuracy did not improve from 0.98667\nEpoch 38/40\n600/600 [==============================] - 28s 46ms/step - loss: 0.1128 - accuracy: 0.9850 - precision: 0.8451 - recall: 0.8476 - val_loss: 0.3315 - val_accuracy: 0.9867 - val_precision: 0.8733 - val_recall: 0.8800\n\nEpoch 00038: val_accuracy did not improve from 0.98667\nEpoch 39/40\n600/600 [==============================] - 28s 46ms/step - loss: 0.1033 - accuracy: 0.9850 - precision: 0.8554 - recall: 0.8452 - val_loss: 0.9770 - val_accuracy: 0.9400 - val_precision: 0.8400 - val_recall: 0.8600\n\nEpoch 00039: val_accuracy did not improve from 0.98667\nEpoch 40/40\n600/600 [==============================] - 28s 47ms/step - loss: 0.1713 - accuracy: 0.9792 - precision: 0.8102 - recall: 0.8080 - val_loss: 0.5743 - val_accuracy: 0.9533 - val_precision: 0.8600 - val_recall: 0.8467\n\nEpoch 00040: val_accuracy did not improve from 0.98667\n",
          "output_type": "stream"
        }
      ]
    },
    {
      "cell_type": "code",
      "metadata": {
        "execution": {
          "iopub.status.busy": "2021-09-02T17:50:27.570653Z",
          "iopub.execute_input": "2021-09-02T17:50:27.570965Z",
          "iopub.status.idle": "2021-09-02T17:50:28.042724Z",
          "shell.execute_reply.started": "2021-09-02T17:50:27.570935Z",
          "shell.execute_reply": "2021-09-02T17:50:28.041886Z"
        },
        "trusted": true,
        "id": "L26BZPc31kSF"
      },
      "source": [
        "model.load_weights(\"./Xception1.hdf5\")\n"
      ],
      "execution_count": null,
      "outputs": []
    },
    {
      "cell_type": "code",
      "metadata": {
        "execution": {
          "iopub.status.busy": "2021-09-02T17:50:30.167572Z",
          "iopub.execute_input": "2021-09-02T17:50:30.167902Z",
          "iopub.status.idle": "2021-09-02T17:50:34.601041Z",
          "shell.execute_reply.started": "2021-09-02T17:50:30.167870Z",
          "shell.execute_reply": "2021-09-02T17:50:34.600278Z"
        },
        "trusted": true,
        "id": "ykCLAB8G1kSH",
        "outputId": "681d078b-8f9d-4388-817b-580efd696350"
      },
      "source": [
        "\n",
        "print(\"Train_Accuracy\" )\n",
        "train_results = model.evaluate(train_images, train_labels)\n",
        "\n",
        "print(\"Val_Accuracy\" )\n",
        "val_results = model.evaluate(val_images, val_labels)\n",
        "\n",
        "print(\"Test_Accuracy\" )\n",
        "test_results = model.evaluate(test_images, test_labels)\n"
      ],
      "execution_count": null,
      "outputs": [
        {
          "name": "stdout",
          "text": "Train_Accuracy\n38/38 [==============================] - 3s 70ms/step - loss: 0.0709 - accuracy: 0.9917 - precision: 0.9865 - recall: 1.0000\nVal_Accuracy\n5/5 [==============================] - 0s 66ms/step - loss: 0.3919 - accuracy: 0.9867 - precision: 0.9821 - recall: 1.0000\nTest_Accuracy\n5/5 [==============================] - 0s 64ms/step - loss: 0.8396 - accuracy: 0.9600 - precision: 0.9536 - recall: 0.9784\n",
          "output_type": "stream"
        }
      ]
    },
    {
      "cell_type": "code",
      "metadata": {
        "execution": {
          "iopub.status.busy": "2021-09-02T17:52:28.865601Z",
          "iopub.execute_input": "2021-09-02T17:52:28.865920Z",
          "iopub.status.idle": "2021-09-02T17:52:29.751983Z",
          "shell.execute_reply.started": "2021-09-02T17:52:28.865892Z",
          "shell.execute_reply": "2021-09-02T17:52:29.750366Z"
        },
        "trusted": true,
        "id": "1eYWTAeI1kSK",
        "outputId": "0191c0e8-3d5d-4a20-fd46-8605b42556d2"
      },
      "source": [
        "model3_pred = model.predict(test_images)\n",
        "pred = [1 if x > 0.5 else 0 for x in list(model3_pred[: , 0])]\n",
        "Xception_pred = np.array(pred)\n",
        "Xception_pred\n"
      ],
      "execution_count": null,
      "outputs": [
        {
          "execution_count": 78,
          "output_type": "execute_result",
          "data": {
            "text/plain": "array([1, 1, 1, 1, 0, 0, 1, 0, 1, 1, 1, 0, 1, 0, 0, 0, 1, 1, 0, 1, 1, 1,\n       0, 1, 0, 1, 0, 1, 1, 1, 0, 1, 0, 1, 1, 0, 0, 0, 0, 1, 1, 0, 1, 1,\n       1, 1, 0, 0, 0, 1, 0, 0, 1, 0, 1, 1, 1, 1, 1, 0, 0, 1, 1, 0, 0, 1,\n       0, 1, 1, 1, 0, 1, 1, 1, 1, 0, 1, 0, 0, 1, 1, 1, 0, 0, 1, 0, 0, 0,\n       1, 1, 1, 1, 0, 1, 0, 0, 1, 1, 0, 1, 0, 0, 0, 0, 1, 1, 1, 1, 1, 1,\n       0, 1, 1, 0, 1, 0, 0, 0, 1, 1, 1, 1, 0, 1, 1, 0, 0, 0, 1, 0, 0, 0,\n       0, 1, 0, 1, 1, 1, 1, 0, 1, 1, 1, 0, 1, 0, 1, 1, 1, 1])"
          },
          "metadata": {}
        }
      ]
    },
    {
      "cell_type": "code",
      "metadata": {
        "execution": {
          "iopub.status.busy": "2021-09-02T17:52:43.534557Z",
          "iopub.execute_input": "2021-09-02T17:52:43.534872Z",
          "iopub.status.idle": "2021-09-02T17:52:43.684688Z",
          "shell.execute_reply.started": "2021-09-02T17:52:43.534844Z",
          "shell.execute_reply": "2021-09-02T17:52:43.683683Z"
        },
        "trusted": true,
        "id": "YcX3OMIL1kSK",
        "outputId": "f3e102c8-b9f6-48c5-b46b-27050b8eeda7"
      },
      "source": [
        "loss = history5.history['loss']\n",
        "val_loss = history5.history['val_loss']\n",
        "epochs = range(1, len(loss) + 1)\n",
        "plt.plot(epochs, loss, 'y', label='Training loss')\n",
        "plt.plot(epochs, val_loss, 'r', label='Validation loss')\n",
        "plt.title('Training and validation loss')\n",
        "plt.xlabel('Epochs')\n",
        "plt.ylabel('Loss')\n",
        "plt.legend()\n",
        "plt.show()\n",
        "\n"
      ],
      "execution_count": null,
      "outputs": [
        {
          "output_type": "display_data",
          "data": {
            "text/plain": "<Figure size 432x288 with 1 Axes>",
            "image/png": "[encoded data removed]"
          },
          "metadata": {
            "needs_background": "light"
          }
        }
      ]
    },
    {
      "cell_type": "code",
      "metadata": {
        "execution": {
          "iopub.status.busy": "2021-09-02T17:52:52.575144Z",
          "iopub.execute_input": "2021-09-02T17:52:52.575517Z",
          "iopub.status.idle": "2021-09-02T17:52:52.722793Z",
          "shell.execute_reply.started": "2021-09-02T17:52:52.575485Z",
          "shell.execute_reply": "2021-09-02T17:52:52.721866Z"
        },
        "trusted": true,
        "id": "_0n2CeTq1kSL",
        "outputId": "753e480f-2d63-46d8-ccce-a81e67888f84"
      },
      "source": [
        "acc = history5.history['accuracy']\n",
        "val_acc = history5.history['val_accuracy']\n",
        "plt.plot(epochs, acc, 'y', label='Training acc')\n",
        "plt.plot(epochs, val_acc, 'r', label='Validation acc')\n",
        "plt.title('Training and validation accuracy')\n",
        "plt.xlabel('Epochs')\n",
        "plt.ylabel('Accuracy')\n",
        "plt.legend()\n",
        "plt.show()"
      ],
      "execution_count": null,
      "outputs": [
        {
          "output_type": "display_data",
          "data": {
            "text/plain": "<Figure size 432x288 with 1 Axes>",
            "image/png": "[encoded data removed]"
          },
          "metadata": {
            "needs_background": "light"
          }
        }
      ]
    }
  ]
}